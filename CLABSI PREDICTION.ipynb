{
 "cells": [
  {
   "cell_type": "markdown",
   "id": "4a2c231f-f033-4b3c-bc16-e7a3aa2ff530",
   "metadata": {},
   "source": [
    "# <a id='Introduction'></a>Introduction"
   ]
  },
  {
   "cell_type": "markdown",
   "id": "78431335-4a0f-4633-8fa6-0f7341f5106f",
   "metadata": {},
   "source": [
    "Central Line-Associated Bloodstream Infections (CLABSI) is a significant concern for the healthcare system, presenting serious health risks to patients and imposing substantial treatment costs. Early prediction of CLABSI enables healthcare providers to implement timely interventions, reducing infection rates, minimizing patient health risks, and lowering treatment expenses. Collaborating with our project partner, Texas Children’s Hospital (TCH), we aim to build on our prior work by leveraging their dataset to develop machine learning models capable of predicting the likelihood of CLABSI. \n"
   ]
  },
  {
   "cell_type": "markdown",
   "id": "b8f86cfc-e2ca-4955-bb2b-954b8a79f3ec",
   "metadata": {},
   "source": [
    "# <a id='Introduction'></a>Objective"
   ]
  },
  {
   "cell_type": "markdown",
   "id": "d75b89db-ffad-44e9-b21b-340d00637bb0",
   "metadata": {},
   "source": [
    "- To predict CLABSI infection in patients admitted to TEXAS CHILDREN HOSPITAL\n",
    "- To undestand Type I and Type II errors and how these errors effect in healthcare industry\n",
    "  "
   ]
  },
  {
   "cell_type": "markdown",
   "id": "f0dc227f-39cc-49ad-8a1c-e943031bf6d4",
   "metadata": {},
   "source": [
    "# <a id='Introduction'></a>Approach"
   ]
  },
  {
   "cell_type": "markdown",
   "id": "f7c20780-e8cf-4561-a1d2-3b1b19493510",
   "metadata": {},
   "source": [
    "We followed CRISP-DM method to understand the problem, analyze the dataset, develop ML models and finally evaluating them based on metrics. Steps we have followed are below:\n",
    "- Data Understanding phase\n",
    "- Data preprocessing\n",
    "- Modelling\n",
    "- Evaluation"
   ]
  },
  {
   "cell_type": "code",
   "execution_count": 2,
   "id": "414b1849-ece9-4f2f-b562-babf04ec91af",
   "metadata": {},
   "outputs": [],
   "source": [
    "import pandas as pd\n",
    "import numpy as np\n",
    "from numpy import NaN as NA\n",
    "import matplotlib.pyplot as plt\n",
    "import statsmodels.api as sm\n",
    "from sklearn import preprocessing\n",
    "import sklearn.linear_model as lm\n",
    "import sklearn.neighbors as knn\n",
    "from sklearn.model_selection import cross_val_score\n",
    "from sklearn.feature_selection import RFE\n",
    "from sklearn.model_selection import cross_val_score\n",
    "# for imputing missing values\n",
    "from sklearn.impute import SimpleImputer\n",
    "# for transformation pipelines\n",
    "from sklearn.pipeline import Pipeline, make_pipeline\n",
    "# for custom column transformer\n",
    "from sklearn.compose import ColumnTransformer, make_column_transformer\n",
    "from sklearn.metrics import accuracy_score, recall_score, precision_score\n",
    "\n",
    "from statsmodels.stats.weightstats import ttest_ind\n",
    "from statsmodels.stats.proportion import proportions_ztest\n",
    "from sklearn.preprocessing import RobustScaler\n",
    "import pandas as pd\n",
    "import openpyxl as op"
   ]
  },
  {
   "cell_type": "markdown",
   "id": "3c6e35bb-34e7-439d-893a-8285ba1decad",
   "metadata": {},
   "source": [
    "## Data Understanding Phase"
   ]
  },
  {
   "cell_type": "markdown",
   "id": "ed09d991-8d83-47e0-b5a9-2c51ce618e46",
   "metadata": {},
   "source": [
    "Loading the dataset and data dictionary"
   ]
  },
  {
   "cell_type": "code",
   "execution_count": 3,
   "id": "e150edc4-19e3-4a32-860d-7b8ba0642837",
   "metadata": {},
   "outputs": [],
   "source": [
    "Bzan6361_clabsi_1 = pd.read_csv('bzan6361_clabsi_1.csv', low_memory=False)"
   ]
  },
  {
   "cell_type": "code",
   "execution_count": 4,
   "id": "a7303fdd-a6ce-4991-8bfc-3cd08560e948",
   "metadata": {},
   "outputs": [],
   "source": [
    "CLABSI_Data_Dictionary_1 =  pd.read_excel(\"C:/Users/madhu/Downloads/CLABSI Data Dictionary_1.xlsx\")"
   ]
  },
  {
   "cell_type": "markdown",
   "id": "fa70762d-bc69-40bb-b2cd-703f539d7999",
   "metadata": {},
   "source": [
    "Shape of dataset"
   ]
  },
  {
   "cell_type": "code",
   "execution_count": 5,
   "id": "9bc5d3d8-9b84-4540-82a7-7f6cce943b64",
   "metadata": {},
   "outputs": [
    {
     "data": {
      "text/plain": [
       "(14236, 278)"
      ]
     },
     "execution_count": 5,
     "metadata": {},
     "output_type": "execute_result"
    }
   ],
   "source": [
    "Bzan6361_clabsi_1.shape"
   ]
  },
  {
   "cell_type": "markdown",
   "id": "6988a0f9-3a68-4304-a79f-c073e49a47d5",
   "metadata": {},
   "source": [
    "Data Types"
   ]
  },
  {
   "cell_type": "code",
   "execution_count": 6,
   "id": "f5ac03c9-e9bd-4b58-b183-9ffafbdee028",
   "metadata": {},
   "outputs": [
    {
     "data": {
      "text/plain": [
       "PatientKey          int64\n",
       "EncounterKey        int64\n",
       "Date               object\n",
       "InsertionDate      object\n",
       "AgeGroup           object\n",
       "                    ...  \n",
       "CVICUDaysLast30     int64\n",
       "ICUDaysLast15       int64\n",
       "ICUDaysLast5        int64\n",
       "ICUDaysLast3        int64\n",
       "ICUDaysLast2        int64\n",
       "Length: 278, dtype: object"
      ]
     },
     "execution_count": 6,
     "metadata": {},
     "output_type": "execute_result"
    }
   ],
   "source": [
    "Bzan6361_clabsi_1.dtypes"
   ]
  },
  {
   "cell_type": "code",
   "execution_count": 7,
   "id": "ef9bee01-b6bc-466a-aa97-908494188b30",
   "metadata": {},
   "outputs": [
    {
     "data": {
      "text/html": [
       "<div>\n",
       "<style scoped>\n",
       "    .dataframe tbody tr th:only-of-type {\n",
       "        vertical-align: middle;\n",
       "    }\n",
       "\n",
       "    .dataframe tbody tr th {\n",
       "        vertical-align: top;\n",
       "    }\n",
       "\n",
       "    .dataframe thead th {\n",
       "        text-align: right;\n",
       "    }\n",
       "</style>\n",
       "<table border=\"1\" class=\"dataframe\">\n",
       "  <thead>\n",
       "    <tr style=\"text-align: right;\">\n",
       "      <th></th>\n",
       "      <th>PatientKey</th>\n",
       "      <th>EncounterKey</th>\n",
       "      <th>Date</th>\n",
       "      <th>InsertionDate</th>\n",
       "      <th>AgeGroup</th>\n",
       "      <th>DepartmentDSC</th>\n",
       "      <th>HospitalDay</th>\n",
       "      <th>LineDrainDSC</th>\n",
       "      <th>LineCount</th>\n",
       "      <th>LineDay</th>\n",
       "      <th>...</th>\n",
       "      <th>SedatedLast3</th>\n",
       "      <th>SedatedLast2</th>\n",
       "      <th>ICUDaysLast30</th>\n",
       "      <th>PICUDaysLast30</th>\n",
       "      <th>NICUDaysLast30</th>\n",
       "      <th>CVICUDaysLast30</th>\n",
       "      <th>ICUDaysLast15</th>\n",
       "      <th>ICUDaysLast5</th>\n",
       "      <th>ICUDaysLast3</th>\n",
       "      <th>ICUDaysLast2</th>\n",
       "    </tr>\n",
       "  </thead>\n",
       "  <tbody>\n",
       "    <tr>\n",
       "      <th>0</th>\n",
       "      <td>887558</td>\n",
       "      <td>7883287</td>\n",
       "      <td>2019-04-02</td>\n",
       "      <td>4/2/2019 0:00</td>\n",
       "      <td>8 - 10 Years</td>\n",
       "      <td>LT CVICU 17</td>\n",
       "      <td>1</td>\n",
       "      <td>[REMOVED] CVC Triple Lumen - 04/01/19 Right In...</td>\n",
       "      <td>1</td>\n",
       "      <td>1</td>\n",
       "      <td>...</td>\n",
       "      <td>1</td>\n",
       "      <td>1</td>\n",
       "      <td>1</td>\n",
       "      <td>0</td>\n",
       "      <td>0</td>\n",
       "      <td>1</td>\n",
       "      <td>1</td>\n",
       "      <td>1</td>\n",
       "      <td>1</td>\n",
       "      <td>1</td>\n",
       "    </tr>\n",
       "    <tr>\n",
       "      <th>1</th>\n",
       "      <td>2874369</td>\n",
       "      <td>6865957</td>\n",
       "      <td>2018-10-30</td>\n",
       "      <td>10/30/2018 0:00</td>\n",
       "      <td>8 - 10 Years</td>\n",
       "      <td>LT CVICU 17</td>\n",
       "      <td>1</td>\n",
       "      <td>[REMOVED] CVC Double Lumen - 10/29/18 Right In...</td>\n",
       "      <td>1</td>\n",
       "      <td>1</td>\n",
       "      <td>...</td>\n",
       "      <td>1</td>\n",
       "      <td>1</td>\n",
       "      <td>1</td>\n",
       "      <td>0</td>\n",
       "      <td>0</td>\n",
       "      <td>1</td>\n",
       "      <td>1</td>\n",
       "      <td>1</td>\n",
       "      <td>1</td>\n",
       "      <td>1</td>\n",
       "    </tr>\n",
       "    <tr>\n",
       "      <th>2</th>\n",
       "      <td>2684699</td>\n",
       "      <td>4336219</td>\n",
       "      <td>2017-08-24</td>\n",
       "      <td>8/24/2017 0:00</td>\n",
       "      <td>14 - 16 Years</td>\n",
       "      <td>WT PUL ADOL ENDO</td>\n",
       "      <td>5</td>\n",
       "      <td>PICC Single Lumen - 08/23/17 Right Upperarm</td>\n",
       "      <td>1</td>\n",
       "      <td>1</td>\n",
       "      <td>...</td>\n",
       "      <td>0</td>\n",
       "      <td>0</td>\n",
       "      <td>0</td>\n",
       "      <td>0</td>\n",
       "      <td>0</td>\n",
       "      <td>0</td>\n",
       "      <td>0</td>\n",
       "      <td>0</td>\n",
       "      <td>0</td>\n",
       "      <td>0</td>\n",
       "    </tr>\n",
       "  </tbody>\n",
       "</table>\n",
       "<p>3 rows × 278 columns</p>\n",
       "</div>"
      ],
      "text/plain": [
       "   PatientKey  EncounterKey        Date    InsertionDate       AgeGroup  \\\n",
       "0      887558       7883287  2019-04-02    4/2/2019 0:00   8 - 10 Years   \n",
       "1     2874369       6865957  2018-10-30  10/30/2018 0:00   8 - 10 Years   \n",
       "2     2684699       4336219  2017-08-24   8/24/2017 0:00  14 - 16 Years   \n",
       "\n",
       "      DepartmentDSC  HospitalDay  \\\n",
       "0       LT CVICU 17            1   \n",
       "1       LT CVICU 17            1   \n",
       "2  WT PUL ADOL ENDO            5   \n",
       "\n",
       "                                        LineDrainDSC  LineCount  LineDay  ...  \\\n",
       "0  [REMOVED] CVC Triple Lumen - 04/01/19 Right In...          1        1  ...   \n",
       "1  [REMOVED] CVC Double Lumen - 10/29/18 Right In...          1        1  ...   \n",
       "2        PICC Single Lumen - 08/23/17 Right Upperarm          1        1  ...   \n",
       "\n",
       "  SedatedLast3  SedatedLast2  ICUDaysLast30  PICUDaysLast30  NICUDaysLast30  \\\n",
       "0            1             1              1               0               0   \n",
       "1            1             1              1               0               0   \n",
       "2            0             0              0               0               0   \n",
       "\n",
       "  CVICUDaysLast30  ICUDaysLast15  ICUDaysLast5  ICUDaysLast3  ICUDaysLast2  \n",
       "0               1              1             1             1             1  \n",
       "1               1              1             1             1             1  \n",
       "2               0              0             0             0             0  \n",
       "\n",
       "[3 rows x 278 columns]"
      ]
     },
     "execution_count": 7,
     "metadata": {},
     "output_type": "execute_result"
    }
   ],
   "source": [
    "Bzan6361_clabsi_1.head(3)"
   ]
  },
  {
   "cell_type": "markdown",
   "id": "624294af-77ba-4131-a610-7a5146df31ae",
   "metadata": {},
   "source": [
    "Target variavle for this business problem is identified as HasCLABSI, which is a catogorical variable with two outcomes YES or NO. As this is a binary variable with two outcomes we can conclude this problem as a classification problem and further in modeling phase apply classification models like Logistic regression, KNN for classification, Random Forest and Neural networks."
   ]
  },
  {
   "cell_type": "markdown",
   "id": "5c4467e2-74b8-4181-8956-6d2fd171007a",
   "metadata": {},
   "source": [
    "Missing Values"
   ]
  },
  {
   "cell_type": "code",
   "execution_count": 8,
   "id": "ba496280-ce11-4466-9572-eea3c94df641",
   "metadata": {},
   "outputs": [
    {
     "name": "stdout",
     "output_type": "stream",
     "text": [
      "The dataset has 239605 missing values.\n"
     ]
    }
   ],
   "source": [
    "print('The dataset has {} missing values.'.format(Bzan6361_clabsi_1.isnull().sum().sum()))"
   ]
  },
  {
   "cell_type": "code",
   "execution_count": 9,
   "id": "f62e3f7c-f892-424f-900a-d19d74a59736",
   "metadata": {},
   "outputs": [
    {
     "name": "stdout",
     "output_type": "stream",
     "text": [
      "DepartmentDSC                 325\n",
      "ClabsiDTS                   12713\n",
      "DaysToCLABSI                13143\n",
      "MostRecentClabsiDTS         13003\n",
      "FlushedToday                 1472\n",
      "FlushedLast4                 1472\n",
      "FlushedLast7                 1472\n",
      "FlushedLast10                1472\n",
      "CapChangesLastToday          1472\n",
      "CapChangesLast4              1472\n",
      "CapChangesLast7              1472\n",
      "CapChangesLast10             1472\n",
      "DressingChangesLastToday     1472\n",
      "DressingChangesLast4         1472\n",
      "DressingChangesLast7         1472\n",
      "DressingChangesLast10        1472\n",
      "TubingChangesLastToday       1472\n",
      "TubingChangesLast4           1472\n",
      "TubingChangesLast7           1472\n",
      "TubingChangesLast10          1472\n",
      "LastAnc                       198\n",
      "LastAncDate                   198\n",
      "LastAncDelta                 1134\n",
      "MedicationsLast30            7143\n",
      "MedicationsLast15            7143\n",
      "MedicationsLast5             7143\n",
      "MedicationsLast3             7143\n",
      "MedicationsLast2             7143\n",
      "ProceduresLast30               56\n",
      "ProceduresLast15               71\n",
      "ProceduresLast5               189\n",
      "ProceduresLast3               429\n",
      "ProceduresLast2               848\n",
      "ICDCodesLast30               7014\n",
      "ICDCategoriesLast30          7087\n",
      "DiagnosisLast30              7014\n",
      "DiagnosisLast15              9038\n",
      "DiagnosisLast5              11961\n",
      "DiagnosisLast3              13004\n",
      "DiagnosisLast2              13604\n",
      "SurgeryGroupsLast30          7325\n",
      "SurgerySubGroupsLast30       7325\n",
      "SurgeriesLast30              7325\n",
      "SurgeriesLast15              9401\n",
      "SurgeriesLast5              11906\n",
      "SurgeriesLast3              12756\n",
      "SurgeriesLast2              13271\n",
      "dtype: int64\n"
     ]
    }
   ],
   "source": [
    "missing_data = Bzan6361_clabsi_1.isnull().sum()\n",
    "missing_data_1 = missing_data[missing_data > 0]\n",
    "print(missing_data_1)"
   ]
  },
  {
   "cell_type": "code",
   "execution_count": 10,
   "id": "97d0b5be-dbcd-47fa-8d01-4cb6219be8b8",
   "metadata": {},
   "outputs": [
    {
     "name": "stdout",
     "output_type": "stream",
     "text": [
      "DepartmentDSC                object\n",
      "ClabsiDTS                    object\n",
      "DaysToCLABSI                float64\n",
      "MostRecentClabsiDTS          object\n",
      "FlushedToday                float64\n",
      "FlushedLast4                float64\n",
      "FlushedLast7                float64\n",
      "FlushedLast10               float64\n",
      "CapChangesLastToday         float64\n",
      "CapChangesLast4             float64\n",
      "CapChangesLast7             float64\n",
      "CapChangesLast10            float64\n",
      "DressingChangesLastToday    float64\n",
      "DressingChangesLast4        float64\n",
      "DressingChangesLast7        float64\n",
      "DressingChangesLast10       float64\n",
      "TubingChangesLastToday      float64\n",
      "TubingChangesLast4          float64\n",
      "TubingChangesLast7          float64\n",
      "TubingChangesLast10         float64\n",
      "LastAnc                     float64\n",
      "LastAncDate                  object\n",
      "LastAncDelta                float64\n",
      "MedicationsLast30            object\n",
      "MedicationsLast15            object\n",
      "MedicationsLast5             object\n",
      "MedicationsLast3             object\n",
      "MedicationsLast2             object\n",
      "ProceduresLast30             object\n",
      "ProceduresLast15             object\n",
      "ProceduresLast5              object\n",
      "ProceduresLast3              object\n",
      "ProceduresLast2              object\n",
      "ICDCodesLast30               object\n",
      "ICDCategoriesLast30          object\n",
      "DiagnosisLast30              object\n",
      "DiagnosisLast15              object\n",
      "DiagnosisLast5               object\n",
      "DiagnosisLast3               object\n",
      "DiagnosisLast2               object\n",
      "SurgeryGroupsLast30          object\n",
      "SurgerySubGroupsLast30       object\n",
      "SurgeriesLast30              object\n",
      "SurgeriesLast15              object\n",
      "SurgeriesLast5               object\n",
      "SurgeriesLast3               object\n",
      "SurgeriesLast2               object\n",
      "dtype: object\n"
     ]
    }
   ],
   "source": [
    "missing_data_columns = missing_data[missing_data > 0].index\n",
    "print(Bzan6361_clabsi_1[missing_data_columns].dtypes)"
   ]
  },
  {
   "cell_type": "code",
   "execution_count": 11,
   "id": "6898a7d4-3f09-498e-b9c5-68a5156c5078",
   "metadata": {},
   "outputs": [
    {
     "name": "stdout",
     "output_type": "stream",
     "text": [
      "DepartmentDSC                2.282945\n",
      "ClabsiDTS                   89.301770\n",
      "DaysToCLABSI                92.322282\n",
      "MostRecentClabsiDTS         91.338859\n",
      "FlushedToday                10.339983\n",
      "FlushedLast4                10.339983\n",
      "FlushedLast7                10.339983\n",
      "FlushedLast10               10.339983\n",
      "CapChangesLastToday         10.339983\n",
      "CapChangesLast4             10.339983\n",
      "CapChangesLast7             10.339983\n",
      "CapChangesLast10            10.339983\n",
      "DressingChangesLastToday    10.339983\n",
      "DressingChangesLast4        10.339983\n",
      "DressingChangesLast7        10.339983\n",
      "DressingChangesLast10       10.339983\n",
      "TubingChangesLastToday      10.339983\n",
      "TubingChangesLast4          10.339983\n",
      "TubingChangesLast7          10.339983\n",
      "TubingChangesLast10         10.339983\n",
      "LastAnc                      1.390840\n",
      "LastAncDate                  1.390840\n",
      "LastAncDelta                 7.965721\n",
      "MedicationsLast30           50.175611\n",
      "MedicationsLast15           50.175611\n",
      "MedicationsLast5            50.175611\n",
      "MedicationsLast3            50.175611\n",
      "MedicationsLast2            50.175611\n",
      "ProceduresLast30             0.393369\n",
      "ProceduresLast15             0.498736\n",
      "ProceduresLast5              1.327620\n",
      "ProceduresLast3              3.013487\n",
      "ProceduresLast2              5.956729\n",
      "ICDCodesLast30              49.269458\n",
      "ICDCategoriesLast30         49.782242\n",
      "DiagnosisLast30             49.269458\n",
      "DiagnosisLast15             63.486935\n",
      "DiagnosisLast5              84.019387\n",
      "DiagnosisLast3              91.345884\n",
      "DiagnosisLast2              95.560551\n",
      "SurgeryGroupsLast30         51.454060\n",
      "SurgerySubGroupsLast30      51.454060\n",
      "SurgeriesLast30             51.454060\n",
      "SurgeriesLast15             66.036808\n",
      "SurgeriesLast5              83.633043\n",
      "SurgeriesLast3              89.603821\n",
      "SurgeriesLast2              93.221411\n",
      "dtype: float64\n"
     ]
    }
   ],
   "source": [
    "# Missing values as a percentage of total \n",
    "missing_percentage = Bzan6361_clabsi_1.isnull().mean()*100\n",
    "# Print missing values greater than 0, this gives columns only with missing values \n",
    "missing_percentage = missing_percentage[missing_percentage > 0]\n",
    "print(missing_percentage)"
   ]
  },
  {
   "cell_type": "markdown",
   "id": "6fcc62d7-a561-490a-bd17-bff57787d0ed",
   "metadata": {},
   "source": [
    "In the above list we can see there are columns in which missing values are more than 70 percent of thier respective totals. If a column has more than 70-80% missing values, it's often dropped unless the column is crucial to the analysis. It's hard to extract meaningful information when most values are missing.With such a high proportion of missing data, the column may not contribute meaningfully to the analysis. Filling in too much missing data can introduce bias, especially if the missing values are not missing at random."
   ]
  },
  {
   "cell_type": "markdown",
   "id": "893e4aa7-4eeb-4173-9e60-e7baa2551e6f",
   "metadata": {},
   "source": [
    "Duplicate Values"
   ]
  },
  {
   "cell_type": "code",
   "execution_count": 12,
   "id": "ab440602-b08b-43b7-bed6-ba9cebbb2472",
   "metadata": {},
   "outputs": [
    {
     "name": "stdout",
     "output_type": "stream",
     "text": [
      "The dataset has 0 duplicated values.\n"
     ]
    }
   ],
   "source": [
    "print('The dataset has {} duplicated values.'.format(Bzan6361_clabsi_1.duplicated().sum().sum()))"
   ]
  },
  {
   "cell_type": "code",
   "execution_count": 13,
   "id": "a5fa47c3-9748-487d-ab09-fa765c61dd54",
   "metadata": {},
   "outputs": [
    {
     "name": "stdout",
     "output_type": "stream",
     "text": [
      "Numeric columns: Index(['PatientKey', 'EncounterKey', 'HospitalDay', 'LineCount', 'LineDay',\n",
      "       'DaysToCLABSI', 'PastCLABSIs', 'LineDaysPort', 'LineDaysPICC',\n",
      "       'LineDaysVenousAccess',\n",
      "       ...\n",
      "       'SedatedLast3', 'SedatedLast2', 'ICUDaysLast30', 'PICUDaysLast30',\n",
      "       'NICUDaysLast30', 'CVICUDaysLast30', 'ICUDaysLast15', 'ICUDaysLast5',\n",
      "       'ICUDaysLast3', 'ICUDaysLast2'],\n",
      "      dtype='object', length=227)\n",
      "Outliers in PatientKey: 0\n",
      "Outliers in EncounterKey: 0\n",
      "Outliers in HospitalDay: 1378\n",
      "Outliers in LineCount: 2071\n",
      "Outliers in LineDay: 1503\n",
      "Outliers in DaysToCLABSI: 0\n",
      "Outliers in PastCLABSIs: 1233\n",
      "Outliers in LineDaysPort: 3395\n",
      "Outliers in LineDaysPICC: 1826\n",
      "Outliers in LineDaysVenousAccess: 0\n",
      "Outliers in LineDaysSingleLumen: 2274\n",
      "Outliers in LineDaysDoubleLumen: 1587\n",
      "Outliers in LineDaysTripleLumen: 535\n",
      "Outliers in LineDaysQuadrupleLumen: 0\n",
      "Outliers in LineDaysMultiLumen: 1589\n",
      "Outliers in LineDaysFemoral: 3353\n",
      "Outliers in LineDaysSubclavian: 708\n",
      "Outliers in LineDaysUpperArm: 3496\n",
      "Outliers in LineDaysJugular: 3372\n",
      "Outliers in LineDaysChest: 2762\n",
      "Outliers in LineDaysLeg: 1554\n",
      "Outliers in FlushedToday: 479\n",
      "Outliers in FlushedLast4: 637\n",
      "Outliers in FlushedLast7: 795\n",
      "Outliers in FlushedLast10: 652\n",
      "Outliers in CapChangesLastToday: 53\n",
      "Outliers in CapChangesLast4: 502\n",
      "Outliers in CapChangesLast7: 273\n",
      "Outliers in CapChangesLast10: 304\n",
      "Outliers in DressingChangesLastToday: 1639\n",
      "Outliers in DressingChangesLast4: 226\n",
      "Outliers in DressingChangesLast7: 616\n",
      "Outliers in DressingChangesLast10: 103\n",
      "Outliers in TubingChangesLastToday: 23\n",
      "Outliers in TubingChangesLast4: 12\n",
      "Outliers in TubingChangesLast7: 136\n",
      "Outliers in TubingChangesLast10: 480\n",
      "Outliers in LastAnc: 636\n",
      "Outliers in LastAncDelta: 1803\n",
      "Outliers in UndergoingChemoTreatment: 310\n",
      "Outliers in CytarabineChemoLast30: 624\n",
      "Outliers in ChlorhexidineLast30: 586\n",
      "Outliers in CountMedicationsLast30: 1788\n",
      "Outliers in CountMedicationsLast15: 1393\n",
      "Outliers in CountMedicationsLast5: 558\n",
      "Outliers in CountMedicationsLast3: 433\n",
      "Outliers in CountMedicationsLast2: 400\n",
      "Outliers in MedicationsInjectedLast30: 1403\n",
      "Outliers in MedicationsInjectedLast15: 1389\n",
      "Outliers in MedicationsInjectedLast5: 1185\n",
      "Outliers in MedicationsInjectedLast3: 1192\n",
      "Outliers in MedicationsInjectedLast2: 1138\n",
      "Outliers in AlteplaseAdministeredLast30: 813\n",
      "Outliers in AlteplaseAdministeredLast15: 602\n",
      "Outliers in AlteplaseAdministeredLast5: 278\n",
      "Outliers in AlteplaseAdministeredLast3: 184\n",
      "Outliers in AlteplaseAdministeredLast2: 129\n",
      "Outliers in HCLAdministeredLast30: 2520\n",
      "Outliers in HCLAdministeredLast15: 2527\n",
      "Outliers in HCLAdministeredLast5: 2766\n",
      "Outliers in HCLAdministeredLast3: 3128\n",
      "Outliers in HCLAdministeredLast2: 2790\n",
      "Outliers in MedsAcidSuppTherapyLast2: 2362\n",
      "Outliers in MedsAcidSuppTherapyLast3: 2466\n",
      "Outliers in MedsAcidSuppTherapyLast5: 2635\n",
      "Outliers in MedsAcidSuppTherapyLast15: 3155\n",
      "Outliers in MedsAcidSuppTherapyLast30: 3159\n",
      "Outliers in MedsBowelRegimenLast2: 1381\n",
      "Outliers in MedsBowelRegimenLast3: 1514\n",
      "Outliers in MedsBowelRegimenLast5: 1717\n",
      "Outliers in MedsBowelRegimenLast15: 2333\n",
      "Outliers in MedsBowelRegimenLast30: 2812\n",
      "Outliers in MedsCentralTPNLast2: 13\n",
      "Outliers in MedsCentralTPNLast3: 17\n",
      "Outliers in MedsCentralTPNLast5: 23\n",
      "Outliers in MedsCentralTPNLast15: 34\n",
      "Outliers in MedsCentralTPNLast30: 49\n",
      "Outliers in MedsFatEmulsionLast2: 34\n",
      "Outliers in MedsFatEmulsionLast3: 41\n",
      "Outliers in MedsFatEmulsionLast5: 54\n",
      "Outliers in MedsFatEmulsionLast15: 91\n",
      "Outliers in MedsFatEmulsionLast30: 112\n",
      "Outliers in MedsH2RALast2: 1133\n",
      "Outliers in MedsH2RALast3: 1217\n",
      "Outliers in MedsH2RALast5: 1352\n",
      "Outliers in MedsH2RALast15: 1805\n",
      "Outliers in MedsH2RALast30: 2285\n",
      "Outliers in MedsNSAIDLast2: 929\n",
      "Outliers in MedsNSAIDLast3: 1011\n",
      "Outliers in MedsNSAIDLast5: 1140\n",
      "Outliers in MedsNSAIDLast15: 1558\n",
      "Outliers in MedsNSAIDLast30: 1833\n",
      "Outliers in MedsOralCareLast2: 2136\n",
      "Outliers in MedsOralCareLast3: 2158\n",
      "Outliers in MedsOralCareLast5: 2201\n",
      "Outliers in MedsOralCareLast15: 2391\n",
      "Outliers in MedsOralCareLast30: 2552\n",
      "Outliers in MedsPeripheralTPNLast2: 0\n",
      "Outliers in MedsPeripheralTPNLast3: 0\n",
      "Outliers in MedsPeripheralTPNLast5: 0\n",
      "Outliers in MedsPeripheralTPNLast15: 0\n",
      "Outliers in MedsPeripheralTPNLast30: 0\n",
      "Outliers in MedsPPILast2: 1298\n",
      "Outliers in MedsPPILast3: 1355\n",
      "Outliers in MedsPPILast5: 1444\n",
      "Outliers in MedsPPILast15: 1720\n",
      "Outliers in MedsPPILast30: 1939\n",
      "Outliers in MedsPrematureLast2: 0\n",
      "Outliers in MedsPrematureLast3: 0\n",
      "Outliers in MedsPrematureLast5: 0\n",
      "Outliers in MedsPrematureLast15: 0\n",
      "Outliers in MedsPrematureLast30: 0\n",
      "Outliers in MedsPropofolLast2: 406\n",
      "Outliers in MedsPropofolLast3: 592\n",
      "Outliers in MedsPropofolLast5: 913\n",
      "Outliers in MedsPropofolLast15: 1926\n",
      "Outliers in MedsPropofolLast30: 2751\n",
      "Outliers in MedsSteroidsLast2: 1474\n",
      "Outliers in MedsSteroidsLast3: 1661\n",
      "Outliers in MedsSteroidsLast5: 1965\n",
      "Outliers in MedsSteroidsLast15: 2839\n",
      "Outliers in MedsSteroidsLast30: 3399\n",
      "Outliers in DiagnosisClotLast30: 48\n",
      "Outliers in DiagnosisClotLast15: 26\n",
      "Outliers in DiagnosisClotLast5: 7\n",
      "Outliers in DiagnosisClotLast3: 4\n",
      "Outliers in DiagnosisClotLast2: 2\n",
      "Outliers in DiagnosisCancerLast30: 290\n",
      "Outliers in DiagnosisCancerLast15: 181\n",
      "Outliers in DiagnosisCancerLast5: 54\n",
      "Outliers in DiagnosisCancerLast3: 28\n",
      "Outliers in DiagnosisCancerLast2: 16\n",
      "Outliers in DiagnosisDisorderLast30: 359\n",
      "Outliers in DiagnosisDisorderLast15: 203\n",
      "Outliers in DiagnosisDisorderLast5: 74\n",
      "Outliers in DiagnosisDisorderLast3: 40\n",
      "Outliers in DiagnosisDisorderLast2: 22\n",
      "Outliers in DiagnosisPtSizeLast30: 52\n",
      "Outliers in DiagnosisPtSizeLast15: 34\n",
      "Outliers in DiagnosisPtSizeLast5: 7\n",
      "Outliers in DiagnosisPtSizeLast3: 3\n",
      "Outliers in DiagnosisPtSizeLast2: 1\n",
      "Outliers in DiagnosisEventLast30: 0\n",
      "Outliers in DiagnosisEventLast15: 0\n",
      "Outliers in DiagnosisEventLast5: 0\n",
      "Outliers in DiagnosisEventLast3: 0\n",
      "Outliers in DiagnosisEventLast2: 0\n",
      "Outliers in DiagnosisInfectionLast30: 125\n",
      "Outliers in DiagnosisInfectionLast15: 81\n",
      "Outliers in DiagnosisInfectionLast5: 39\n",
      "Outliers in DiagnosisInfectionLast3: 19\n",
      "Outliers in DiagnosisInfectionLast2: 10\n",
      "Outliers in DiagnosisShuntCardiacLast30: 265\n",
      "Outliers in DiagnosisShuntCardiacLast15: 140\n",
      "Outliers in DiagnosisShuntCardiacLast5: 47\n",
      "Outliers in DiagnosisShuntCardiacLast3: 25\n",
      "Outliers in DiagnosisShuntCardiacLast2: 10\n",
      "Outliers in DiagnosisRenalLast30: 0\n",
      "Outliers in DiagnosisRenalLast15: 0\n",
      "Outliers in DiagnosisRenalLast5: 0\n",
      "Outliers in DiagnosisRenalLast3: 0\n",
      "Outliers in DiagnosisRenalLast2: 0\n",
      "Outliers in SurgeryCountLast30: 983\n",
      "Outliers in SurgeryCountLast15: 2136\n",
      "Outliers in SurgeryCountLast5: 2330\n",
      "Outliers in SurgeryCountLast3: 1480\n",
      "Outliers in SurgeryCountLast2: 965\n",
      "Outliers in SurgeriesBloodLast30: 1230\n",
      "Outliers in SurgeriesBloodLast15: 781\n",
      "Outliers in SurgeriesBloodLast5: 351\n",
      "Outliers in SurgeriesBloodLast3: 218\n",
      "Outliers in SurgeriesBloodLast2: 142\n",
      "Outliers in SurgeriesCancerLast30: 1716\n",
      "Outliers in SurgeriesCancerLast15: 1134\n",
      "Outliers in SurgeriesCancerLast5: 509\n",
      "Outliers in SurgeriesCancerLast3: 318\n",
      "Outliers in SurgeriesCancerLast2: 205\n",
      "Outliers in SurgeriesCongenitalHeartDiseaseLast30: 1095\n",
      "Outliers in SurgeriesCongenitalHeartDiseaseLast15: 693\n",
      "Outliers in SurgeriesCongenitalHeartDiseaseLast5: 316\n",
      "Outliers in SurgeriesCongenitalHeartDiseaseLast3: 200\n",
      "Outliers in SurgeriesCongenitalHeartDiseaseLast2: 126\n",
      "Outliers in SurgeriesSingleVentricleLast30: 318\n",
      "Outliers in SurgeriesSingleVentricleLast15: 187\n",
      "Outliers in SurgeriesSingleVentricleLast5: 90\n",
      "Outliers in SurgeriesSingleVentricleLast3: 58\n",
      "Outliers in SurgeriesSingleVentricleLast2: 37\n",
      "Outliers in SurgeriesICULast30: 1278\n",
      "Outliers in SurgeriesICULast15: 809\n",
      "Outliers in SurgeriesICULast5: 353\n",
      "Outliers in SurgeriesICULast3: 205\n",
      "Outliers in SurgeriesICULast2: 121\n",
      "Outliers in SurgeriesAbdominalLast30: 245\n",
      "Outliers in SurgeriesAbdominalLast15: 130\n",
      "Outliers in SurgeriesAbdominalLast5: 42\n",
      "Outliers in SurgeriesAbdominalLast3: 26\n",
      "Outliers in SurgeriesAbdominalLast2: 17\n",
      "Outliers in SurgeriesIntestinalLast30: 192\n",
      "Outliers in SurgeriesIntestinalLast15: 124\n",
      "Outliers in SurgeriesIntestinalLast5: 53\n",
      "Outliers in SurgeriesIntestinalLast3: 29\n",
      "Outliers in SurgeriesIntestinalLast2: 17\n",
      "Outliers in SurgeriesPlasticLast30: 1093\n",
      "Outliers in SurgeriesPlasticLast15: 767\n",
      "Outliers in SurgeriesPlasticLast5: 345\n",
      "Outliers in SurgeriesPlasticLast3: 214\n",
      "Outliers in SurgeriesPlasticLast2: 142\n",
      "Outliers in SurgeriesDelayedSternalClosure: 288\n",
      "Outliers in CHGNonCompliantDays: 2163\n",
      "Outliers in CHGBathsLast30: 0\n",
      "Outliers in CHGBathsLast15: 0\n",
      "Outliers in CHGBathsLast5: 0\n",
      "Outliers in CHGBathsLast3: 0\n",
      "Outliers in CHGBathsLast2: 1\n",
      "Outliers in SedatedLast30: 1249\n",
      "Outliers in SedatedLast15: 544\n",
      "Outliers in SedatedLast5: 2322\n",
      "Outliers in SedatedLast3: 1551\n",
      "Outliers in SedatedLast2: 1087\n",
      "Outliers in ICUDaysLast30: 1994\n",
      "Outliers in PICUDaysLast30: 2685\n",
      "Outliers in NICUDaysLast30: 781\n",
      "Outliers in CVICUDaysLast30: 2282\n",
      "Outliers in ICUDaysLast15: 0\n",
      "Outliers in ICUDaysLast5: 0\n",
      "Outliers in ICUDaysLast3: 0\n",
      "Outliers in ICUDaysLast2: 0\n"
     ]
    }
   ],
   "source": [
    "# Check data types and filter numeric columns\n",
    "numeric_columns = Bzan6361_clabsi_1.select_dtypes(include=[np.number]).columns\n",
    "print(\"Numeric columns:\", numeric_columns)\n",
    "# Create a dictionary to store outliers for each column\n",
    "outliers_dict = {}\n",
    "\n",
    "# Loop through each numeric column and calculate outliers\n",
    "for col in numeric_columns:\n",
    "    Q1 = Bzan6361_clabsi_1[col].quantile(0.25)  # First quartile (25%)\n",
    "    Q3 = Bzan6361_clabsi_1[col].quantile(0.75)  # Third quartile (75%)\n",
    "    IQR = Q3 - Q1  # Interquartile range\n",
    "\n",
    "    # Define outliers as values below Q1 - 1.5*IQR or above Q3 + 1.5*IQR\n",
    "    outliers = Bzan6361_clabsi_1[\n",
    "        (Bzan6361_clabsi_1[col] < (Q1 - 1.5 * IQR)) | (Bzan6361_clabsi_1[col] > (Q3 + 1.5 * IQR))& (Bzan6361_clabsi_1[col] > 0)\n",
    "    ]\n",
    "\n",
    "    # Add outliers to the dictionary\n",
    "    outliers_dict[col] = outliers[col]\n",
    "\n",
    "# Print summary of outliers per column\n",
    "for col, outliers in outliers_dict.items():\n",
    "    print(f\"Outliers in {col}: {len(outliers)}\")"
   ]
  },
  {
   "cell_type": "code",
   "execution_count": 14,
   "id": "24a4f0ee-ab87-4808-ace5-3242b9c0d665",
   "metadata": {},
   "outputs": [
    {
     "data": {
      "text/plain": [
       "HasCLABSI_numeric              1.000000\n",
       "DiagnosisCancerLast15          0.051260\n",
       "DiagnosisCancerLast30          0.046214\n",
       "PICUDaysLast30                 0.045322\n",
       "HCLAdministeredLast5           0.045147\n",
       "AlteplaseAdministeredLast30    0.041839\n",
       "HCLAdministeredLast3           0.041016\n",
       "HCLAdministeredLast2           0.039651\n",
       "HCLAdministeredLast15          0.038001\n",
       "ICUDaysLast30                  0.037565\n",
       "HospitalDay                    0.036599\n",
       "MedsBowelRegimenLast30         0.035978\n",
       "LineDaysDoubleLumen            0.035640\n",
       "LineDaysMultiLumen             0.035278\n",
       "HCLAdministeredLast30          0.034337\n",
       "ICUDaysLast15                  0.032804\n",
       "ChlorhexidineLast30            0.032151\n",
       "CHGBathsLast30                 0.031565\n",
       "Name: HasCLABSI_numeric, dtype: float64"
      ]
     },
     "execution_count": 14,
     "metadata": {},
     "output_type": "execute_result"
    }
   ],
   "source": [
    "# Step 1: Convert the target variable to numeric (assuming target variable is called 'HasCLABSI')\n",
    "\n",
    "Bzan6361_clabsi_1['HasCLABSI_numeric'] = Bzan6361_clabsi_1['HasCLABSI'].map({True: 1, False: 0})\n",
    "# Step 2: Filter numeric columns (including the newly created 'HasCLABSI_numeric')\n",
    "numeric_df_clabsi = Bzan6361_clabsi_1.select_dtypes(include=[float, 'int', 'int64'])\n",
    "# Step 3: Calculate the correlation matrix\n",
    "correlation_matrix = numeric_df_clabsi.corr()\n",
    "target_corr = correlation_matrix['HasCLABSI_numeric'].dropna()\n",
    "target_corr = target_corr[target_corr>0.03]\n",
    "target_corr.sort_values(ascending=False)"
   ]
  },
  {
   "cell_type": "code",
   "execution_count": 15,
   "id": "ca2510b7-801f-4b42-83f4-06769a50766a",
   "metadata": {},
   "outputs": [
    {
     "data": {
      "text/plain": [
       "<Axes: >"
      ]
     },
     "execution_count": 15,
     "metadata": {},
     "output_type": "execute_result"
    },
    {
     "data": {
      "image/png": "[encoded data removed]",
      "text/plain": [
       "<Figure size 800x800 with 2 Axes>"
      ]
     },
     "metadata": {},
     "output_type": "display_data"
    }
   ],
   "source": [
    "#### There are few high correlation variable\n",
    "import seaborn as sns\n",
    "\n",
    "scatterdata0 = Bzan6361_clabsi_1[['HasCLABSI_numeric', 'DiagnosisCancerLast15', 'DiagnosisCancerLast30', \n",
    "'PICUDaysLast30', 'HCLAdministeredLast5', 'AlteplaseAdministeredLast30', \n",
    "'HCLAdministeredLast3', 'HCLAdministeredLast2', 'HCLAdministeredLast15', \n",
    "'ICUDaysLast30', 'HospitalDay', 'MedsBowelRegimenLast30', \n",
    "'LineDaysDoubleLumen', 'LineDaysMultiLumen', 'HCLAdministeredLast30', \n",
    "'ICUDaysLast15', 'ChlorhexidineLast30', 'CHGBathsLast30']]\n",
    "corr = scatterdata0.corr()\n",
    "mask = np.triu(np.ones_like(corr, bool))\n",
    "f, ax = plt.subplots(1,1, figsize=(8, 8))\n",
    "cmap = sns.diverging_palette(220, 10, as_cmap=True)\n",
    "sns.heatmap(corr, mask=mask, cmap=cmap, vmax=1, center=0.1, square=True, ax=ax, \n",
    "            linewidths=.5, cbar_kws={'shrink': .75})"
   ]
  },
  {
   "cell_type": "markdown",
   "id": "fc68c637-0cad-4521-82e7-3f56aa3688fd",
   "metadata": {},
   "source": [
    "Data imbalances"
   ]
  },
  {
   "cell_type": "code",
   "execution_count": 16,
   "id": "d24cba6e-96fb-425c-8e93-a714eca88b60",
   "metadata": {},
   "outputs": [
    {
     "name": "stdout",
     "output_type": "stream",
     "text": [
      "HasCLABSI\n",
      "False    14184\n",
      "True        52\n",
      "Name: count, dtype: int64\n"
     ]
    }
   ],
   "source": [
    "import pandas as pd\n",
    "\n",
    "# Example: 'target' is the name of your target column\n",
    "print(Bzan6361_clabsi_1['HasCLABSI'].value_counts())\n"
   ]
  },
  {
   "cell_type": "code",
   "execution_count": 17,
   "id": "965f062a-f646-4b24-8a10-dcadfcb8f99e",
   "metadata": {},
   "outputs": [
    {
     "name": "stdout",
     "output_type": "stream",
     "text": [
      "HasCLABSI\n",
      "False    99.634729\n",
      "True      0.365271\n",
      "Name: proportion, dtype: float64\n"
     ]
    }
   ],
   "source": [
    "print(Bzan6361_clabsi_1['HasCLABSI'].value_counts(normalize=True) * 100)\n"
   ]
  },
  {
   "cell_type": "code",
   "execution_count": 18,
   "id": "62756b7d-3538-4416-b29b-bfbc155995fc",
   "metadata": {},
   "outputs": [
    {
     "data": {
      "image/png": "[encoded data removed]",
      "text/plain": [
       "<Figure size 640x480 with 1 Axes>"
      ]
     },
     "metadata": {},
     "output_type": "display_data"
    }
   ],
   "source": [
    "sns.countplot(x='HasCLABSI', data=Bzan6361_clabsi_1)\n",
    "plt.title('Class Distribution')\n",
    "plt.show()"
   ]
  },
  {
   "cell_type": "markdown",
   "id": "663f9944-06b5-488b-ab49-3c5d247b956f",
   "metadata": {},
   "source": [
    "## Data Preprocessing"
   ]
  },
  {
   "cell_type": "markdown",
   "id": "d2d24f3f-b01c-4d45-99e8-999537b96592",
   "metadata": {},
   "source": [
    "Handling Missing Values"
   ]
  },
  {
   "cell_type": "code",
   "execution_count": 19,
   "id": "81e9c5d1-891a-4f9d-9313-bd188299436a",
   "metadata": {},
   "outputs": [
    {
     "name": "stdout",
     "output_type": "stream",
     "text": [
      "The DaysToCLABSI has 0 missing values.\n"
     ]
    },
    {
     "data": {
      "text/plain": [
       "325"
      ]
     },
     "execution_count": 19,
     "metadata": {},
     "output_type": "execute_result"
    }
   ],
   "source": [
    "# filling the follwing missing values with 0 as there are very less percentage of missing values in these variables\n",
    "# Dropped those variables with more than 70% of missing values\n",
    "Bzan6361_clabsi_1['DaysToCLABSI'].fillna(0, inplace=True)\n",
    "print('The DaysToCLABSI has {} missing values.'.format(Bzan6361_clabsi_1['DaysToCLABSI'].isnull().sum().sum()))\n",
    "Bzan6361_clabsi_1['FlushedToday'].fillna(0, inplace=True)\n",
    "Bzan6361_clabsi_1['FlushedLast4'].fillna(0, inplace=True)\n",
    "Bzan6361_clabsi_1['FlushedLast7'].fillna(0, inplace=True)\n",
    "Bzan6361_clabsi_1['FlushedLast10'].fillna(0, inplace=True)\n",
    "\n",
    "Bzan6361_clabsi_1['CapChangesLastToday'].fillna(0, inplace=True)\n",
    "Bzan6361_clabsi_1['CapChangesLast4'].fillna(0, inplace=True)\n",
    "Bzan6361_clabsi_1['CapChangesLast7'].fillna(0, inplace=True)\n",
    "Bzan6361_clabsi_1['CapChangesLast10'].fillna(0, inplace=True)\n",
    "\n",
    "Bzan6361_clabsi_1['DressingChangesLastToday'].fillna(0, inplace=True)\n",
    "Bzan6361_clabsi_1['DressingChangesLast4'].fillna(0, inplace=True)\n",
    "Bzan6361_clabsi_1['DressingChangesLast7'].fillna(0, inplace=True)\n",
    "Bzan6361_clabsi_1['DressingChangesLast10'].fillna(0, inplace=True)\n",
    "\n",
    "Bzan6361_clabsi_1['TubingChangesLastToday'].fillna(0, inplace=True)\n",
    "Bzan6361_clabsi_1['TubingChangesLast4'].fillna(0, inplace=True)\n",
    "Bzan6361_clabsi_1['TubingChangesLast7'].fillna(0, inplace=True)\n",
    "Bzan6361_clabsi_1['TubingChangesLast10'].fillna(0, inplace=True)\n",
    "\n",
    "columns_to_drop = ['LastAncDelta','ClabsiDTS', 'MostRecentClabsiDTS', 'LastAnc','LastAncDate', 'MedicationsLast30'\n",
    "                   ,'MedicationsLast15','MedicationsLast5', 'MedicationsLast3', 'MedicationsLast2', 'ProceduresLast30', 'ProceduresLast15',\n",
    "                   'ProceduresLast5', 'ProceduresLast3', 'ProceduresLast2', 'ICDCodesLast30', 'ICDCategoriesLast30',\n",
    "                   'DiagnosisLast30', 'DiagnosisLast15', 'DiagnosisLast5', 'DiagnosisLast3', 'DiagnosisLast2',\n",
    "                   'SurgeryGroupsLast30', 'SurgerySubGroupsLast30', 'SurgeriesLast30', 'SurgeriesLast15', 'SurgeriesLast5',\n",
    "                   'SurgeriesLast3', 'SurgeriesLast2']\n",
    "\n",
    "# Drop the columns\n",
    "Bzan6361_clabsi_1.drop(columns=columns_to_drop, inplace=True)\n",
    "\n",
    "Bzan6361_clabsi_1.isnull().sum().sum()"
   ]
  },
  {
   "cell_type": "code",
   "execution_count": 20,
   "id": "ae270156-c61e-4383-9ad7-6dc8101b2cf8",
   "metadata": {},
   "outputs": [
    {
     "data": {
      "text/plain": [
       "PatientKey           0\n",
       "EncounterKey         0\n",
       "Date                 0\n",
       "InsertionDate        0\n",
       "AgeGroup             0\n",
       "                    ..\n",
       "ICUDaysLast15        0\n",
       "ICUDaysLast5         0\n",
       "ICUDaysLast3         0\n",
       "ICUDaysLast2         0\n",
       "HasCLABSI_numeric    0\n",
       "Length: 250, dtype: int64"
      ]
     },
     "execution_count": 20,
     "metadata": {},
     "output_type": "execute_result"
    }
   ],
   "source": [
    "Bzan6361_clabsi_1.isnull().sum()"
   ]
  },
  {
   "cell_type": "code",
   "execution_count": 21,
   "id": "83f95cfa-e1cd-4068-b882-feb8bee04348",
   "metadata": {},
   "outputs": [
    {
     "name": "stdout",
     "output_type": "stream",
     "text": [
      "DepartmentDSC    325\n",
      "dtype: int64\n"
     ]
    }
   ],
   "source": [
    "missing_data = Bzan6361_clabsi_1.isnull().sum()\n",
    "missing_data_1 = missing_data[missing_data > 0]\n",
    "print(missing_data_1)"
   ]
  },
  {
   "cell_type": "markdown",
   "id": "d62e1edc-937d-45f6-a558-c73047885cd8",
   "metadata": {},
   "source": [
    "After imputing the missing values which are least impactful based on their correlation with target variable and filling the rest of the missing values with 0 the only variable that is left is DepartmentDSC Which is a catogorical variable and seems to have some relation with target variable. hence we are using a different way of imputing to fill these missing values in DepartmentDSC. "
   ]
  },
  {
   "cell_type": "code",
   "execution_count": 22,
   "id": "6c0198ca-3347-44db-b802-a4823664d062",
   "metadata": {},
   "outputs": [
    {
     "name": "stdout",
     "output_type": "stream",
     "text": [
      "Chi-Square Statistic: 33890.71268766533\n",
      "p-value: 0.0\n",
      "Degrees of Freedom: 810\n",
      "Expected Frequencies Table:\n",
      " [[9.36161311e+01 9.38049026e+00 1.03824312e+01 9.39501114e+00\n",
      "  1.19506865e+01 6.54891812e+00 1.88190641e+01 9.72899145e-01\n",
      "  2.43950830e+00 2.03292359e-01 1.45208828e-02 1.45208828e-02\n",
      "  4.35626483e-02 4.35626483e-02 1.45208828e-02 1.72798505e+01\n",
      "  1.45208828e-02 3.58665804e+00 1.72798505e+01]\n",
      " [4.44908346e+01 4.45805478e+00 4.93422471e+00 4.46495579e+00\n",
      "  5.67953418e+00 3.11235713e+00 8.94371361e+00 4.62367910e-01\n",
      "  1.15937028e+00 9.66141902e-02 6.90101359e-03 6.90101359e-03\n",
      "  2.07030408e-02 2.07030408e-02 6.90101359e-03 8.21220617e+00\n",
      "  6.90101359e-03 1.70455036e+00 8.21220617e+00]\n",
      " [6.30286823e+01 6.31557760e+00 6.99015168e+00 6.32535404e+00\n",
      "  8.04600676e+00 4.40917260e+00 1.26702609e+01 6.55021206e-01\n",
      "  1.64244123e+00 1.36870103e-01 9.77643591e-03 9.77643591e-03\n",
      "  2.93293077e-02 2.93293077e-02 9.77643591e-03 1.16339587e+01\n",
      "  9.77643591e-03 2.41477967e+00 1.16339587e+01]\n",
      " [4.17101574e+00 4.17942635e-01 4.62583567e-01 4.18589605e-01\n",
      "  5.32456330e-01 2.91783481e-01 8.38473151e-01 4.33469916e-02\n",
      "  1.08690964e-01 9.05758033e-03 6.46970024e-04 6.46970024e-04\n",
      "  1.94091007e-03 1.94091007e-03 6.46970024e-04 7.69894328e-01\n",
      "  6.46970024e-04 1.59801596e-01 7.69894328e-01]\n",
      " [4.63446194e-01 4.64380706e-02 5.13981741e-02 4.65099561e-02\n",
      "  5.91618144e-02 3.24203867e-02 9.31636834e-02 4.81633240e-03\n",
      "  1.20767738e-02 1.00639781e-03 7.18855582e-05 7.18855582e-05\n",
      "  2.15656675e-04 2.15656675e-04 7.18855582e-05 8.55438142e-02\n",
      "  7.18855582e-05 1.77557329e-02 8.55438142e-02]\n",
      " [5.60769894e+01 5.61900654e+00 6.21917907e+00 5.62770469e+00\n",
      "  7.15857954e+00 3.92286680e+00 1.12728057e+01 5.82776220e-01\n",
      "  1.46128963e+00 1.21774136e-01 8.69815254e-03 8.69815254e-03\n",
      "  2.60944576e-02 2.60944576e-02 8.69815254e-03 1.03508015e+01\n",
      "  8.69815254e-03 2.14844368e+00 1.03508015e+01]\n",
      " [1.54791029e+02 1.55103156e+01 1.71669902e+01 1.55343254e+01\n",
      "  1.97600460e+01 1.08284092e+01 3.11166703e+01 1.60865502e+00\n",
      "  4.03364244e+00 3.36136870e-01 2.40097764e-02 2.40097764e-02\n",
      "  7.20293293e-02 7.20293293e-02 2.40097764e-02 2.85716340e+01\n",
      "  2.40097764e-02 5.93041478e+00 2.85716340e+01]\n",
      " [1.18642226e+02 1.18881461e+01 1.31579326e+01 1.19065488e+01\n",
      "  1.51454245e+01 8.29961901e+00 2.38499030e+01 1.23298109e+00\n",
      "  3.09165409e+00 2.57637841e-01 1.84027029e-02 1.84027029e-02\n",
      "  5.52081087e-02 5.52081087e-02 1.84027029e-02 2.18992164e+01\n",
      "  1.84027029e-02 4.54546762e+00 2.18992164e+01]\n",
      " [7.60051758e+01 7.61584358e+00 8.42930055e+00 7.62763281e+00\n",
      "  9.70253756e+00 5.31694343e+00 1.52788441e+01 7.89878513e-01\n",
      "  1.98059090e+00 1.65049242e-01 1.17892315e-02 1.17892315e-02\n",
      "  3.53676946e-02 3.53676946e-02 1.17892315e-02 1.40291855e+01\n",
      "  1.17892315e-02 2.91194019e+00 1.40291855e+01]\n",
      " [4.63446194e-01 4.64380706e-02 5.13981741e-02 4.65099561e-02\n",
      "  5.91618144e-02 3.24203867e-02 9.31636834e-02 4.81633240e-03\n",
      "  1.20767738e-02 1.00639781e-03 7.18855582e-05 7.18855582e-05\n",
      "  2.15656675e-04 2.15656675e-04 7.18855582e-05 8.55438142e-02\n",
      "  7.18855582e-05 1.77557329e-02 8.55438142e-02]\n",
      " [1.39033858e+00 1.39314212e-01 1.54194522e-01 1.39529868e-01\n",
      "  1.77485443e-01 9.72611602e-02 2.79491050e-01 1.44489972e-02\n",
      "  3.62303213e-02 3.01919344e-03 2.15656675e-04 2.15656675e-04\n",
      "  6.46970024e-04 6.46970024e-04 2.15656675e-04 2.56631443e-01\n",
      "  2.15656675e-04 5.32671986e-02 2.56631443e-01]\n",
      " [1.91866724e+02 1.92253612e+01 2.12788441e+01 1.92551218e+01\n",
      "  2.44929912e+01 1.34220401e+01 3.85697649e+01 1.99396161e+00\n",
      "  4.99978434e+00 4.16648695e-01 2.97606211e-02 2.97606211e-02\n",
      "  8.92818633e-02 8.92818633e-02 2.97606211e-02 3.54151391e+01\n",
      "  2.97606211e-02 7.35087341e+00 3.54151391e+01]\n",
      " [3.19777874e+01 3.20422687e+00 3.54647401e+00 3.20918697e+00\n",
      "  4.08216519e+00 2.23700669e+00 6.42829416e+00 3.32326936e-01\n",
      "  8.33297391e-01 6.94414492e-02 4.96010352e-03 4.96010352e-03\n",
      "  1.48803105e-02 1.48803105e-02 4.96010352e-03 5.90252318e+00\n",
      "  4.96010352e-03 1.22514557e+00 5.90252318e+00]\n",
      " [1.52010352e+02 1.52316872e+01 1.68586011e+01 1.52552656e+01\n",
      "  1.94050751e+01 1.06338869e+01 3.05576882e+01 1.57975703e+00\n",
      "  3.96118180e+00 3.30098483e-01 2.35784631e-02 2.35784631e-02\n",
      "  7.07353893e-02 7.07353893e-02 2.35784631e-02 2.80583711e+01\n",
      "  2.35784631e-02 5.82388038e+00 2.80583711e+01]\n",
      " [2.59993315e+02 2.60517576e+01 2.88343757e+01 2.60920854e+01\n",
      "  3.31897779e+01 1.81878370e+01 5.22648264e+01 2.70196248e+00\n",
      "  6.77507009e+00 5.64589174e-01 4.03277981e-02 4.03277981e-02\n",
      "  1.20983394e-01 1.20983394e-01 4.03277981e-02 4.79900798e+01\n",
      "  4.03277981e-02 9.96096614e+00 4.79900798e+01]\n",
      " [1.85378477e+00 1.85752282e-01 2.05592696e-01 1.86039825e-01\n",
      "  2.36647258e-01 1.29681547e-01 3.72654734e-01 1.92653296e-02\n",
      "  4.83070951e-02 4.02559126e-03 2.87542233e-04 2.87542233e-04\n",
      "  8.62626698e-04 8.62626698e-04 2.87542233e-04 3.42175257e-01\n",
      "  2.87542233e-04 7.10229315e-02 3.42175257e-01]\n",
      " [2.44699590e+02 2.45193013e+01 2.71382359e+01 2.45572568e+01\n",
      "  3.12374380e+01 1.71179642e+01 4.91904248e+01 2.54302351e+00\n",
      "  6.37653655e+00 5.31378046e-01 3.79555747e-02 3.79555747e-02\n",
      "  1.13866724e-01 1.13866724e-01 3.79555747e-02 4.51671339e+01\n",
      "  3.79555747e-02 9.37502696e+00 4.51671339e+01]\n",
      " [4.63446194e-01 4.64380706e-02 5.13981741e-02 4.65099561e-02\n",
      "  5.91618144e-02 3.24203867e-02 9.31636834e-02 4.81633240e-03\n",
      "  1.20767738e-02 1.00639781e-03 7.18855582e-05 7.18855582e-05\n",
      "  2.15656675e-04 2.15656675e-04 7.18855582e-05 8.55438142e-02\n",
      "  7.18855582e-05 1.77557329e-02 8.55438142e-02]\n",
      " [1.39033858e+00 1.39314212e-01 1.54194522e-01 1.39529868e-01\n",
      "  1.77485443e-01 9.72611602e-02 2.79491050e-01 1.44489972e-02\n",
      "  3.62303213e-02 3.01919344e-03 2.15656675e-04 2.15656675e-04\n",
      "  6.46970024e-04 6.46970024e-04 2.15656675e-04 2.56631443e-01\n",
      "  2.15656675e-04 5.32671986e-02 2.56631443e-01]\n",
      " [1.03811947e+02 1.04021278e+01 1.15131910e+01 1.04182302e+01\n",
      "  1.32522464e+01 7.26216663e+00 2.08686651e+01 1.07885846e+00\n",
      "  2.70519733e+00 2.25433110e-01 1.61023650e-02 1.61023650e-02\n",
      "  4.83070951e-02 4.83070951e-02 1.61023650e-02 1.91618144e+01\n",
      "  1.61023650e-02 3.97728416e+00 1.91618144e+01]\n",
      " [4.86618503e+01 4.87599741e+00 5.39680828e+00 4.88354540e+00\n",
      "  6.21199051e+00 3.40414061e+00 9.78218676e+00 5.05714902e-01\n",
      "  1.26806125e+00 1.05671771e-01 7.54798361e-03 7.54798361e-03\n",
      "  2.26439508e-02 2.26439508e-02 7.54798361e-03 8.98210050e+00\n",
      "  7.54798361e-03 1.86435195e+00 8.98210050e+00]\n",
      " [1.34399396e+01 1.34670405e+00 1.49054705e+00 1.34878873e+00\n",
      "  1.71569262e+00 9.40191216e-01 2.70174682e+00 1.39673640e-01\n",
      "  3.50226440e-01 2.91855366e-02 2.08468119e-03 2.08468119e-03\n",
      "  6.25404356e-03 6.25404356e-03 2.08468119e-03 2.48077061e+00\n",
      "  2.08468119e-03 5.14916253e-01 2.48077061e+00]\n",
      " [5.09790813e+00 5.10818777e-01 5.65379915e-01 5.11609518e-01\n",
      "  6.50779958e-01 3.56624254e-01 1.02480052e+00 5.29796564e-02\n",
      "  1.32844512e-01 1.10703760e-02 7.90741140e-04 7.90741140e-04\n",
      "  2.37222342e-03 2.37222342e-03 7.90741140e-04 9.40981957e-01\n",
      "  7.90741140e-04 1.95313062e-01 9.40981957e-01]\n",
      " [4.17101574e+00 4.17942635e-01 4.62583567e-01 4.18589605e-01\n",
      "  5.32456330e-01 2.91783481e-01 8.38473151e-01 4.33469916e-02\n",
      "  1.08690964e-01 9.05758033e-03 6.46970024e-04 6.46970024e-04\n",
      "  1.94091007e-03 1.94091007e-03 6.46970024e-04 7.69894328e-01\n",
      "  6.46970024e-04 1.59801596e-01 7.69894328e-01]\n",
      " [4.63446194e-01 4.64380706e-02 5.13981741e-02 4.65099561e-02\n",
      "  5.91618144e-02 3.24203867e-02 9.31636834e-02 4.81633240e-03\n",
      "  1.20767738e-02 1.00639781e-03 7.18855582e-05 7.18855582e-05\n",
      "  2.15656675e-04 2.15656675e-04 7.18855582e-05 8.55438142e-02\n",
      "  7.18855582e-05 1.77557329e-02 8.55438142e-02]\n",
      " [9.82505931e+01 9.84487097e+00 1.08964129e+01 9.86011070e+00\n",
      "  1.25423047e+01 6.87312199e+00 1.97507009e+01 1.02106247e+00\n",
      "  2.56027604e+00 2.13356337e-01 1.52397383e-02 1.52397383e-02\n",
      "  4.57192150e-02 4.57192150e-02 1.52397383e-02 1.81352886e+01\n",
      "  1.52397383e-02 3.76421537e+00 1.81352886e+01]\n",
      " [2.78067716e+00 2.78628424e-01 3.08389045e-01 2.79059737e-01\n",
      "  3.54970886e-01 1.94522320e-01 5.58982100e-01 2.88979944e-02\n",
      "  7.24606427e-02 6.03838689e-03 4.31313349e-04 4.31313349e-04\n",
      "  1.29394005e-03 1.29394005e-03 4.31313349e-04 5.13262885e-01\n",
      "  4.31313349e-04 1.06534397e-01 5.13262885e-01]\n",
      " [6.07114514e+01 6.08338725e+00 6.73316081e+00 6.09280426e+00\n",
      "  7.75019769e+00 4.24707066e+00 1.22044425e+01 6.30939544e-01\n",
      "  1.58205736e+00 1.31838114e-01 9.41700812e-03 9.41700812e-03\n",
      "  2.82510244e-02 2.82510244e-02 9.41700812e-03 1.12062397e+01\n",
      "  9.41700812e-03 2.32600101e+00 1.12062397e+01]\n",
      " [4.63446194e-01 4.64380706e-02 5.13981741e-02 4.65099561e-02\n",
      "  5.91618144e-02 3.24203867e-02 9.31636834e-02 4.81633240e-03\n",
      "  1.20767738e-02 1.00639781e-03 7.18855582e-05 7.18855582e-05\n",
      "  2.15656675e-04 2.15656675e-04 7.18855582e-05 8.55438142e-02\n",
      "  7.18855582e-05 1.77557329e-02 8.55438142e-02]\n",
      " [3.84660341e+01 3.85435986e+00 4.26604845e+00 3.86032636e+00\n",
      "  4.91043059e+00 2.69089210e+00 7.73258572e+00 3.99755589e-01\n",
      "  1.00237222e+00 8.35310186e-02 5.96650133e-03 5.96650133e-03\n",
      "  1.78995040e-02 1.78995040e-02 5.96650133e-03 7.10013658e+00\n",
      "  5.96650133e-03 1.47372583e+00 7.10013658e+00]\n",
      " [4.31004960e+02 4.31874057e+01 4.78003019e+01 4.32542592e+01\n",
      "  5.50204874e+01 3.01509597e+01 8.66422256e+01 4.47918913e+00\n",
      "  1.12313996e+01 9.35949968e-01 6.68535691e-02 6.68535691e-02\n",
      "  2.00560707e-01 2.00560707e-01 6.68535691e-02 7.95557473e+01\n",
      "  6.68535691e-02 1.65128316e+01 7.95557473e+01]\n",
      " [3.15143412e+01 3.15778880e+00 3.49507584e+00 3.16267702e+00\n",
      "  4.02300338e+00 2.20458630e+00 6.33513047e+00 3.27510603e-01\n",
      "  8.21220617e-01 6.84350514e-02 4.88821796e-03 4.88821796e-03\n",
      "  1.46646539e-02 1.46646539e-02 4.88821796e-03 5.81697937e+00\n",
      "  4.88821796e-03 1.20738984e+00 5.81697937e+00]\n",
      " [5.25084537e+02 5.26143340e+01 5.82341313e+01 5.26957803e+01\n",
      "  6.70303357e+01 3.67322982e+01 1.05554453e+02 5.45690461e+00\n",
      "  1.36829847e+01 1.14024872e+00 8.14463374e-02 8.14463374e-02\n",
      "  2.44339012e-01 2.44339012e-01 8.14463374e-02 9.69211415e+01\n",
      "  8.14463374e-02 2.01172453e+01 9.69211415e+01]\n",
      " [3.01240026e+01 3.01847459e+00 3.34088132e+00 3.02314715e+00\n",
      "  3.84551794e+00 2.10732514e+00 6.05563942e+00 3.13061606e-01\n",
      "  7.84990295e-01 6.54158580e-02 4.67256128e-03 4.67256128e-03\n",
      "  1.40176838e-02 1.40176838e-02 4.67256128e-03 5.56034793e+00\n",
      "  4.67256128e-03 1.15412264e+00 5.56034793e+00]\n",
      " [4.58811732e+02 4.59736899e+01 5.08841924e+01 4.60448566e+01\n",
      "  5.85701962e+01 3.20961829e+01 9.22320466e+01 4.76816907e+00\n",
      "  1.19560060e+01 9.96333837e-01 7.11667026e-02 7.11667026e-02\n",
      "  2.13500108e-01 2.13500108e-01 7.11667026e-02 8.46883761e+01\n",
      "  7.11667026e-02 1.75781755e+01 8.46883761e+01]\n",
      " [9.74627345e+02 9.76592625e+01 1.08090360e+02 9.78104378e+01\n",
      "  1.24417296e+02 6.81800733e+01 1.95923226e+02 1.01287470e+01\n",
      "  2.53974553e+01 2.11645460e+00 1.51175329e-01 1.51175329e-01\n",
      "  4.53525987e-01 4.53525987e-01 1.51175329e-01 1.79898641e+02\n",
      "  1.51175329e-01 3.73403062e+01 1.79898641e+02]\n",
      " [1.11227086e+02 1.11451369e+01 1.23355618e+01 1.11623895e+01\n",
      "  1.41988355e+01 7.78089282e+00 2.23592840e+01 1.15591978e+00\n",
      "  2.89842571e+00 2.41535476e-01 1.72525340e-02 1.72525340e-02\n",
      "  5.17576019e-02 5.17576019e-02 1.72525340e-02 2.05305154e+01\n",
      "  1.72525340e-02 4.26137589e+00 2.05305154e+01]\n",
      " [6.39555747e+01 6.40845374e+00 7.09294803e+00 6.41837395e+00\n",
      "  8.16433039e+00 4.47401337e+00 1.28565883e+01 6.64653871e-01\n",
      "  1.66659478e+00 1.38882898e-01 9.92020703e-03 9.92020703e-03\n",
      "  2.97606211e-02 2.97606211e-02 9.92020703e-03 1.18050464e+01\n",
      "  9.92020703e-03 2.45029114e+00 1.18050464e+01]\n",
      " [9.43576450e+02 9.45479117e+01 1.04646682e+02 9.46942707e+01\n",
      "  1.20453454e+02 6.60079074e+01 1.89681259e+02 9.80605276e+00\n",
      "  2.45883114e+01 2.04902595e+00 1.46358996e-01 1.46358996e-01\n",
      "  4.39076989e-01 4.39076989e-01 1.46358996e-01 1.74167206e+02\n",
      "  1.46358996e-01 3.61506721e+01 1.74167206e+02]\n",
      " [1.85378477e+00 1.85752282e-01 2.05592696e-01 1.86039825e-01\n",
      "  2.36647258e-01 1.29681547e-01 3.72654734e-01 1.92653296e-02\n",
      "  4.83070951e-02 4.02559126e-03 2.87542233e-04 2.87542233e-04\n",
      "  8.62626698e-04 8.62626698e-04 2.87542233e-04 3.42175257e-01\n",
      "  2.87542233e-04 7.10229315e-02 3.42175257e-01]\n",
      " [9.26892387e-01 9.28761412e-02 1.02796348e-01 9.30199123e-02\n",
      "  1.18323629e-01 6.48407735e-02 1.86327367e-01 9.63266480e-03\n",
      "  2.41535476e-02 2.01279563e-03 1.43771116e-04 1.43771116e-04\n",
      "  4.31313349e-04 4.31313349e-04 1.43771116e-04 1.71087628e-01\n",
      "  1.43771116e-04 3.55114657e-02 1.71087628e-01]\n",
      " [2.24307958e+02 2.24760262e+01 2.48767163e+01 2.25108188e+01\n",
      "  2.86343182e+01 1.56914672e+01 4.50912228e+01 2.33110488e+00\n",
      "  5.84515851e+00 4.87096542e-01 3.47926102e-02 3.47926102e-02\n",
      "  1.04377830e-01 1.04377830e-01 3.47926102e-02 4.14032061e+01\n",
      "  3.47926102e-02 8.59377471e+00 4.14032061e+01]\n",
      " [1.16788441e+02 1.17023938e+01 1.29523399e+01 1.17205089e+01\n",
      "  1.49087772e+01 8.16993746e+00 2.34772482e+01 1.21371576e+00\n",
      "  3.04334699e+00 2.53612249e-01 1.81151607e-02 1.81151607e-02\n",
      "  5.43454820e-02 5.43454820e-02 1.81151607e-02 2.15570412e+01\n",
      "  1.81151607e-02 4.47444468e+00 2.15570412e+01]\n",
      " [3.79098986e+02 3.79863417e+01 4.20437064e+01 3.80451441e+01\n",
      "  4.83943642e+01 2.65198764e+01 7.62078930e+01 3.93975990e+00\n",
      "  9.87880095e+00 8.23233412e-01 5.88023866e-02 5.88023866e-02\n",
      "  1.76407160e-01 1.76407160e-01 5.88023866e-02 6.99748401e+01\n",
      "  5.88023866e-02 1.45241895e+01 6.99748401e+01]\n",
      " [4.26370498e+01 4.27230249e+00 4.72863202e+00 4.27891597e+00\n",
      "  5.44288692e+00 2.98267558e+00 8.57105887e+00 4.43102581e-01\n",
      "  1.11106319e+00 9.25885990e-02 6.61347135e-03 6.61347135e-03\n",
      "  1.98404141e-02 1.98404141e-02 6.61347135e-03 7.87003091e+00\n",
      "  6.61347135e-03 1.63352742e+00 7.87003091e+00]\n",
      " [2.37747897e+02 2.38227302e+01 2.63672633e+01 2.38596075e+01\n",
      "  3.03500108e+01 1.66316584e+01 4.77929696e+01 2.47077852e+00\n",
      "  6.19538495e+00 5.16282079e-01 3.68772914e-02 3.68772914e-02\n",
      "  1.10631874e-01 1.10631874e-01 3.68772914e-02 4.38839767e+01\n",
      "  3.68772914e-02 9.10869096e+00 4.38839767e+01]]\n",
      "There is a significant association between DepartmentDSC and AgeGroup.\n"
     ]
    }
   ],
   "source": [
    "import pandas as pd\n",
    "from scipy.stats import chi2_contingency\n",
    "\n",
    "# Assuming your dataset is loaded into a DataFrame called df\n",
    "# Replace 'DepartmentDSC' and 'AgeGroup' with the actual column names if different\n",
    "contingency_table = pd.crosstab(Bzan6361_clabsi_1['DepartmentDSC'], Bzan6361_clabsi_1['AgeGroup'])\n",
    "\n",
    "# Perform the Chi-Square test\n",
    "chi2, p, dof, expected = chi2_contingency(contingency_table)\n",
    "\n",
    "# Display the results\n",
    "print(\"Chi-Square Statistic:\", chi2)\n",
    "print(\"p-value:\", p)\n",
    "print(\"Degrees of Freedom:\", dof)\n",
    "print(\"Expected Frequencies Table:\\n\", expected)\n",
    "\n",
    "# Interpretation\n",
    "if p < 0.05:\n",
    "    print(\"There is a significant association between DepartmentDSC and AgeGroup.\")\n",
    "else:\n",
    "    print(\"There is no significant association between DepartmentDSC and AgeGroup.\")\n"
   ]
  },
  {
   "cell_type": "markdown",
   "id": "4735cf16-2a64-4cf1-8505-e539c79c3a09",
   "metadata": {},
   "source": [
    "When we run chi-square test we have found that there is a significant association between DepartmentDSC and AgeGroup. hence we can use AgeGroup for imputing DepartmentDSC .\n"
   ]
  },
  {
   "cell_type": "code",
   "execution_count": 23,
   "id": "935d6043-cea2-43ec-9dd2-977cb74b0a25",
   "metadata": {},
   "outputs": [
    {
     "name": "stdout",
     "output_type": "stream",
     "text": [
      "Series([], dtype: int64)\n"
     ]
    },
    {
     "data": {
      "text/plain": [
       "0"
      ]
     },
     "execution_count": 23,
     "metadata": {},
     "output_type": "execute_result"
    }
   ],
   "source": [
    "import pandas as pd\n",
    "\n",
    "# Assuming your dataset is in a DataFrame called df\n",
    "\n",
    "# 1. Create a mapping of AgeGroup to the most common DepartmentDSC within each AgeGroup\n",
    "department_impute_map = Bzan6361_clabsi_1.groupby('AgeGroup')['DepartmentDSC'].agg(lambda x: x.mode()[0])\n",
    "\n",
    "# 2. Define a function to fill in missing DepartmentDSC based on AgeGroup\n",
    "def impute_department(row):\n",
    "    if pd.isnull(row['DepartmentDSC']):\n",
    "        return department_impute_map[row['AgeGroup']]\n",
    "    else:\n",
    "        return row['DepartmentDSC']\n",
    "\n",
    "# 3. Apply the imputation function to the dataset\n",
    "Bzan6361_clabsi_1['DepartmentDSC'] = Bzan6361_clabsi_1.apply(impute_department, axis=1)\n",
    "\n",
    "# Display the result to confirm imputation\n",
    "missing_data = Bzan6361_clabsi_1.isnull().sum()\n",
    "missing_data_1 = missing_data[missing_data > 0]\n",
    "print(missing_data_1)\n",
    "\n",
    "Bzan6361_clabsi_1.isnull().sum().sum()"
   ]
  },
  {
   "cell_type": "markdown",
   "id": "fb6030ad-9f03-45cf-9d17-964f208cae39",
   "metadata": {},
   "source": [
    "There are zero missing values which mean missing values in DepartmentDSC are imputed with the help of AgeGroup variable."
   ]
  },
  {
   "cell_type": "markdown",
   "id": "bb2d5b1c-989a-4822-ab1c-5d6f662cd665",
   "metadata": {},
   "source": [
    "OUTLIERS"
   ]
  },
  {
   "cell_type": "code",
   "execution_count": 24,
   "id": "8c723e50-680c-4ec0-b1c8-a71623efd518",
   "metadata": {},
   "outputs": [
    {
     "name": "stdout",
     "output_type": "stream",
     "text": [
      "Numeric columns: Index(['PatientKey', 'EncounterKey', 'HospitalDay', 'LineCount', 'LineDay',\n",
      "       'DaysToCLABSI', 'PastCLABSIs', 'LineDaysPort', 'LineDaysPICC',\n",
      "       'LineDaysVenousAccess',\n",
      "       ...\n",
      "       'SedatedLast2', 'ICUDaysLast30', 'PICUDaysLast30', 'NICUDaysLast30',\n",
      "       'CVICUDaysLast30', 'ICUDaysLast15', 'ICUDaysLast5', 'ICUDaysLast3',\n",
      "       'ICUDaysLast2', 'HasCLABSI_numeric'],\n",
      "      dtype='object', length=226)\n"
     ]
    }
   ],
   "source": [
    "# Check data types and filter numeric columns\n",
    "numeric_columns = Bzan6361_clabsi_1.select_dtypes(include=[np.number]).columns\n",
    "print(\"Numeric columns:\", numeric_columns)"
   ]
  },
  {
   "cell_type": "code",
   "execution_count": 25,
   "id": "869d1297-ab88-4ee8-a746-0baaa00fd812",
   "metadata": {},
   "outputs": [
    {
     "name": "stdout",
     "output_type": "stream",
     "text": [
      "Outliers in PatientKey: 0\n",
      "Outliers in EncounterKey: 0\n",
      "Outliers in HospitalDay: 1378\n",
      "Outliers in LineCount: 2071\n",
      "Outliers in LineDay: 1503\n",
      "Outliers in DaysToCLABSI: 1067\n",
      "Outliers in PastCLABSIs: 1233\n",
      "Outliers in LineDaysPort: 3395\n",
      "Outliers in LineDaysPICC: 1826\n",
      "Outliers in LineDaysVenousAccess: 0\n",
      "Outliers in LineDaysSingleLumen: 2274\n",
      "Outliers in LineDaysDoubleLumen: 1587\n",
      "Outliers in LineDaysTripleLumen: 535\n",
      "Outliers in LineDaysQuadrupleLumen: 0\n",
      "Outliers in LineDaysMultiLumen: 1589\n",
      "Outliers in LineDaysFemoral: 3353\n",
      "Outliers in LineDaysSubclavian: 708\n",
      "Outliers in LineDaysUpperArm: 3496\n",
      "Outliers in LineDaysJugular: 3372\n",
      "Outliers in LineDaysChest: 2762\n",
      "Outliers in LineDaysLeg: 1554\n",
      "Outliers in FlushedToday: 2098\n",
      "Outliers in FlushedLast4: 1077\n",
      "Outliers in FlushedLast7: 987\n",
      "Outliers in FlushedLast10: 976\n",
      "Outliers in CapChangesLastToday: 53\n",
      "Outliers in CapChangesLast4: 64\n",
      "Outliers in CapChangesLast7: 127\n",
      "Outliers in CapChangesLast10: 886\n",
      "Outliers in DressingChangesLastToday: 1639\n",
      "Outliers in DressingChangesLast4: 226\n",
      "Outliers in DressingChangesLast7: 616\n",
      "Outliers in DressingChangesLast10: 103\n",
      "Outliers in TubingChangesLastToday: 3514\n",
      "Outliers in TubingChangesLast4: 1066\n",
      "Outliers in TubingChangesLast7: 332\n",
      "Outliers in TubingChangesLast10: 282\n",
      "Outliers in UndergoingChemoTreatment: 310\n",
      "Outliers in CytarabineChemoLast30: 624\n",
      "Outliers in ChlorhexidineLast30: 586\n",
      "Outliers in CountMedicationsLast30: 1788\n",
      "Outliers in CountMedicationsLast15: 1393\n",
      "Outliers in CountMedicationsLast5: 558\n",
      "Outliers in CountMedicationsLast3: 433\n",
      "Outliers in CountMedicationsLast2: 400\n",
      "Outliers in MedicationsInjectedLast30: 1403\n",
      "Outliers in MedicationsInjectedLast15: 1389\n",
      "Outliers in MedicationsInjectedLast5: 1185\n",
      "Outliers in MedicationsInjectedLast3: 1192\n",
      "Outliers in MedicationsInjectedLast2: 1138\n",
      "Outliers in AlteplaseAdministeredLast30: 813\n",
      "Outliers in AlteplaseAdministeredLast15: 602\n",
      "Outliers in AlteplaseAdministeredLast5: 278\n",
      "Outliers in AlteplaseAdministeredLast3: 184\n",
      "Outliers in AlteplaseAdministeredLast2: 129\n",
      "Outliers in HCLAdministeredLast30: 2520\n",
      "Outliers in HCLAdministeredLast15: 2527\n",
      "Outliers in HCLAdministeredLast5: 2766\n",
      "Outliers in HCLAdministeredLast3: 3128\n",
      "Outliers in HCLAdministeredLast2: 2790\n",
      "Outliers in MedsAcidSuppTherapyLast2: 2362\n",
      "Outliers in MedsAcidSuppTherapyLast3: 2466\n",
      "Outliers in MedsAcidSuppTherapyLast5: 2635\n",
      "Outliers in MedsAcidSuppTherapyLast15: 3155\n",
      "Outliers in MedsAcidSuppTherapyLast30: 3159\n",
      "Outliers in MedsBowelRegimenLast2: 1381\n",
      "Outliers in MedsBowelRegimenLast3: 1514\n",
      "Outliers in MedsBowelRegimenLast5: 1717\n",
      "Outliers in MedsBowelRegimenLast15: 2333\n",
      "Outliers in MedsBowelRegimenLast30: 2812\n",
      "Outliers in MedsCentralTPNLast2: 13\n",
      "Outliers in MedsCentralTPNLast3: 17\n",
      "Outliers in MedsCentralTPNLast5: 23\n",
      "Outliers in MedsCentralTPNLast15: 34\n",
      "Outliers in MedsCentralTPNLast30: 49\n",
      "Outliers in MedsFatEmulsionLast2: 34\n",
      "Outliers in MedsFatEmulsionLast3: 41\n",
      "Outliers in MedsFatEmulsionLast5: 54\n",
      "Outliers in MedsFatEmulsionLast15: 91\n",
      "Outliers in MedsFatEmulsionLast30: 112\n",
      "Outliers in MedsH2RALast2: 1133\n",
      "Outliers in MedsH2RALast3: 1217\n",
      "Outliers in MedsH2RALast5: 1352\n",
      "Outliers in MedsH2RALast15: 1805\n",
      "Outliers in MedsH2RALast30: 2285\n",
      "Outliers in MedsNSAIDLast2: 929\n",
      "Outliers in MedsNSAIDLast3: 1011\n",
      "Outliers in MedsNSAIDLast5: 1140\n",
      "Outliers in MedsNSAIDLast15: 1558\n",
      "Outliers in MedsNSAIDLast30: 1833\n",
      "Outliers in MedsOralCareLast2: 2136\n",
      "Outliers in MedsOralCareLast3: 2158\n",
      "Outliers in MedsOralCareLast5: 2201\n",
      "Outliers in MedsOralCareLast15: 2391\n",
      "Outliers in MedsOralCareLast30: 2552\n",
      "Outliers in MedsPeripheralTPNLast2: 0\n",
      "Outliers in MedsPeripheralTPNLast3: 0\n",
      "Outliers in MedsPeripheralTPNLast5: 0\n",
      "Outliers in MedsPeripheralTPNLast15: 0\n",
      "Outliers in MedsPeripheralTPNLast30: 0\n",
      "Outliers in MedsPPILast2: 1298\n",
      "Outliers in MedsPPILast3: 1355\n",
      "Outliers in MedsPPILast5: 1444\n",
      "Outliers in MedsPPILast15: 1720\n",
      "Outliers in MedsPPILast30: 1939\n",
      "Outliers in MedsPrematureLast2: 0\n",
      "Outliers in MedsPrematureLast3: 0\n",
      "Outliers in MedsPrematureLast5: 0\n",
      "Outliers in MedsPrematureLast15: 0\n",
      "Outliers in MedsPrematureLast30: 0\n",
      "Outliers in MedsPropofolLast2: 406\n",
      "Outliers in MedsPropofolLast3: 592\n",
      "Outliers in MedsPropofolLast5: 913\n",
      "Outliers in MedsPropofolLast15: 1926\n",
      "Outliers in MedsPropofolLast30: 2751\n",
      "Outliers in MedsSteroidsLast2: 1474\n",
      "Outliers in MedsSteroidsLast3: 1661\n",
      "Outliers in MedsSteroidsLast5: 1965\n",
      "Outliers in MedsSteroidsLast15: 2839\n",
      "Outliers in MedsSteroidsLast30: 3399\n",
      "Outliers in DiagnosisClotLast30: 48\n",
      "Outliers in DiagnosisClotLast15: 26\n",
      "Outliers in DiagnosisClotLast5: 7\n",
      "Outliers in DiagnosisClotLast3: 4\n",
      "Outliers in DiagnosisClotLast2: 2\n",
      "Outliers in DiagnosisCancerLast30: 290\n",
      "Outliers in DiagnosisCancerLast15: 181\n",
      "Outliers in DiagnosisCancerLast5: 54\n",
      "Outliers in DiagnosisCancerLast3: 28\n",
      "Outliers in DiagnosisCancerLast2: 16\n",
      "Outliers in DiagnosisDisorderLast30: 359\n",
      "Outliers in DiagnosisDisorderLast15: 203\n",
      "Outliers in DiagnosisDisorderLast5: 74\n",
      "Outliers in DiagnosisDisorderLast3: 40\n",
      "Outliers in DiagnosisDisorderLast2: 22\n",
      "Outliers in DiagnosisPtSizeLast30: 52\n",
      "Outliers in DiagnosisPtSizeLast15: 34\n",
      "Outliers in DiagnosisPtSizeLast5: 7\n",
      "Outliers in DiagnosisPtSizeLast3: 3\n",
      "Outliers in DiagnosisPtSizeLast2: 1\n",
      "Outliers in DiagnosisEventLast30: 0\n",
      "Outliers in DiagnosisEventLast15: 0\n",
      "Outliers in DiagnosisEventLast5: 0\n",
      "Outliers in DiagnosisEventLast3: 0\n",
      "Outliers in DiagnosisEventLast2: 0\n",
      "Outliers in DiagnosisInfectionLast30: 125\n",
      "Outliers in DiagnosisInfectionLast15: 81\n",
      "Outliers in DiagnosisInfectionLast5: 39\n",
      "Outliers in DiagnosisInfectionLast3: 19\n",
      "Outliers in DiagnosisInfectionLast2: 10\n",
      "Outliers in DiagnosisShuntCardiacLast30: 265\n",
      "Outliers in DiagnosisShuntCardiacLast15: 140\n",
      "Outliers in DiagnosisShuntCardiacLast5: 47\n",
      "Outliers in DiagnosisShuntCardiacLast3: 25\n",
      "Outliers in DiagnosisShuntCardiacLast2: 10\n",
      "Outliers in DiagnosisRenalLast30: 0\n",
      "Outliers in DiagnosisRenalLast15: 0\n",
      "Outliers in DiagnosisRenalLast5: 0\n",
      "Outliers in DiagnosisRenalLast3: 0\n",
      "Outliers in DiagnosisRenalLast2: 0\n",
      "Outliers in SurgeryCountLast30: 983\n",
      "Outliers in SurgeryCountLast15: 2136\n",
      "Outliers in SurgeryCountLast5: 2330\n",
      "Outliers in SurgeryCountLast3: 1480\n",
      "Outliers in SurgeryCountLast2: 965\n",
      "Outliers in SurgeriesBloodLast30: 1230\n",
      "Outliers in SurgeriesBloodLast15: 781\n",
      "Outliers in SurgeriesBloodLast5: 351\n",
      "Outliers in SurgeriesBloodLast3: 218\n",
      "Outliers in SurgeriesBloodLast2: 142\n",
      "Outliers in SurgeriesCancerLast30: 1716\n",
      "Outliers in SurgeriesCancerLast15: 1134\n",
      "Outliers in SurgeriesCancerLast5: 509\n",
      "Outliers in SurgeriesCancerLast3: 318\n",
      "Outliers in SurgeriesCancerLast2: 205\n",
      "Outliers in SurgeriesCongenitalHeartDiseaseLast30: 1095\n",
      "Outliers in SurgeriesCongenitalHeartDiseaseLast15: 693\n",
      "Outliers in SurgeriesCongenitalHeartDiseaseLast5: 316\n",
      "Outliers in SurgeriesCongenitalHeartDiseaseLast3: 200\n",
      "Outliers in SurgeriesCongenitalHeartDiseaseLast2: 126\n",
      "Outliers in SurgeriesSingleVentricleLast30: 318\n",
      "Outliers in SurgeriesSingleVentricleLast15: 187\n",
      "Outliers in SurgeriesSingleVentricleLast5: 90\n",
      "Outliers in SurgeriesSingleVentricleLast3: 58\n",
      "Outliers in SurgeriesSingleVentricleLast2: 37\n",
      "Outliers in SurgeriesICULast30: 1278\n",
      "Outliers in SurgeriesICULast15: 809\n",
      "Outliers in SurgeriesICULast5: 353\n",
      "Outliers in SurgeriesICULast3: 205\n",
      "Outliers in SurgeriesICULast2: 121\n",
      "Outliers in SurgeriesAbdominalLast30: 245\n",
      "Outliers in SurgeriesAbdominalLast15: 130\n",
      "Outliers in SurgeriesAbdominalLast5: 42\n",
      "Outliers in SurgeriesAbdominalLast3: 26\n",
      "Outliers in SurgeriesAbdominalLast2: 17\n",
      "Outliers in SurgeriesIntestinalLast30: 192\n",
      "Outliers in SurgeriesIntestinalLast15: 124\n",
      "Outliers in SurgeriesIntestinalLast5: 53\n",
      "Outliers in SurgeriesIntestinalLast3: 29\n",
      "Outliers in SurgeriesIntestinalLast2: 17\n",
      "Outliers in SurgeriesPlasticLast30: 1093\n",
      "Outliers in SurgeriesPlasticLast15: 767\n",
      "Outliers in SurgeriesPlasticLast5: 345\n",
      "Outliers in SurgeriesPlasticLast3: 214\n",
      "Outliers in SurgeriesPlasticLast2: 142\n",
      "Outliers in SurgeriesDelayedSternalClosure: 288\n",
      "Outliers in CHGNonCompliantDays: 2163\n",
      "Outliers in CHGBathsLast30: 0\n",
      "Outliers in CHGBathsLast15: 0\n",
      "Outliers in CHGBathsLast5: 0\n",
      "Outliers in CHGBathsLast3: 0\n",
      "Outliers in CHGBathsLast2: 1\n",
      "Outliers in SedatedLast30: 1249\n",
      "Outliers in SedatedLast15: 544\n",
      "Outliers in SedatedLast5: 2322\n",
      "Outliers in SedatedLast3: 1551\n",
      "Outliers in SedatedLast2: 1087\n",
      "Outliers in ICUDaysLast30: 1994\n",
      "Outliers in PICUDaysLast30: 2685\n",
      "Outliers in NICUDaysLast30: 781\n",
      "Outliers in CVICUDaysLast30: 2282\n",
      "Outliers in ICUDaysLast15: 0\n",
      "Outliers in ICUDaysLast5: 0\n",
      "Outliers in ICUDaysLast3: 0\n",
      "Outliers in ICUDaysLast2: 0\n",
      "Outliers in HasCLABSI_numeric: 52\n"
     ]
    }
   ],
   "source": [
    "# Create a dictionary to store outliers for each column\n",
    "outliers_dict = {}\n",
    "\n",
    "# Loop through each numeric column and calculate outliers\n",
    "for col in numeric_columns:\n",
    "    Q1 = Bzan6361_clabsi_1[col].quantile(0.25)  # First quartile (25%)\n",
    "    Q3 = Bzan6361_clabsi_1[col].quantile(0.75)  # Third quartile (75%)\n",
    "    IQR = Q3 - Q1  # Interquartile range\n",
    "\n",
    "    # Define outliers as values below Q1 - 1.5*IQR or above Q3 + 1.5*IQR\n",
    "    outliers = Bzan6361_clabsi_1[\n",
    "        (Bzan6361_clabsi_1[col] < (Q1 - 1.5 * IQR)) | (Bzan6361_clabsi_1[col] > (Q3 + 1.5 * IQR))& (Bzan6361_clabsi_1[col] > 0)\n",
    "    ]\n",
    "\n",
    "    # Add outliers to the dictionary\n",
    "    outliers_dict[col] = outliers[col]\n",
    "\n",
    "# Print summary of outliers per column\n",
    "for col, outliers in outliers_dict.items():\n",
    "    print(f\"Outliers in {col}: {len(outliers)}\")"
   ]
  },
  {
   "cell_type": "code",
   "execution_count": 26,
   "id": "bcbe6074-4d99-4769-8ced-e62715b332cb",
   "metadata": {},
   "outputs": [
    {
     "name": "stdout",
     "output_type": "stream",
     "text": [
      "                   Clabsi is True  Clabsi is False\n",
      "PatientKey           2.309953e+06     2.267180e+06\n",
      "EncounterKey         5.848268e+06     6.033589e+06\n",
      "HospitalDay          6.946154e+01     3.769282e+01\n",
      "LineCount            1.153846e+00     1.179710e+00\n",
      "LineDay              4.803846e+01     8.469430e+01\n",
      "...                           ...              ...\n",
      "ICUDaysLast15        6.557692e+00     3.556895e+00\n",
      "ICUDaysLast5         2.326923e+00     1.472363e+00\n",
      "ICUDaysLast3         1.423077e+00     9.330936e-01\n",
      "ICUDaysLast2         9.615385e-01     6.411450e-01\n",
      "HasCLABSI_numeric    1.000000e+00     0.000000e+00\n",
      "\n",
      "[226 rows x 2 columns]\n"
     ]
    }
   ],
   "source": [
    "# Comparing Comparing the mean of numerical variables when the CLABSI is true and false.\n",
    "# It able to see the big gap bacasue outliers pull up the mean when CLABSI is True.\n",
    "\n",
    "mean_numericals_clabsi_true = Bzan6361_clabsi_1[Bzan6361_clabsi_1['HasCLABSI'] == True][numeric_columns].mean()\n",
    "\n",
    "mean_numericals_clabsi_False = Bzan6361_clabsi_1[Bzan6361_clabsi_1['HasCLABSI'] == False][numeric_columns].mean()\n",
    "\n",
    "comparing_numericals = pd.DataFrame({\n",
    "    'Clabsi is True':mean_numericals_clabsi_true,\n",
    "    'Clabsi is False':mean_numericals_clabsi_False\n",
    "})\n",
    "\n",
    "print(comparing_numericals)"
   ]
  },
  {
   "cell_type": "code",
   "execution_count": 27,
   "id": "5347fca8-064f-4dae-baf9-5eb24384a1ce",
   "metadata": {},
   "outputs": [
    {
     "name": "stdout",
     "output_type": "stream",
     "text": [
      "       PatientKey  EncounterKey        Date    InsertionDate       AgeGroup  \\\n",
      "0       -1.488436      1.101243  2019-04-02    4/2/2019 0:00   8 - 10 Years   \n",
      "1        0.063403      0.493710  2018-10-30  10/30/2018 0:00   8 - 10 Years   \n",
      "2       -0.084743     -1.017009  2017-08-24   8/24/2017 0:00  14 - 16 Years   \n",
      "3        0.142686      1.237406  2019-05-18   5/18/2019 0:00    0 - 2 Years   \n",
      "4       -1.508665      1.246414  2019-05-22   5/22/2019 0:00   8 - 10 Years   \n",
      "...           ...           ...         ...              ...            ...   \n",
      "14231    0.057893      0.646734  2018-12-30  12/25/2018 0:00    0 - 2 Years   \n",
      "14232    0.057893      0.646734  2018-12-31  12/25/2018 0:00    0 - 2 Years   \n",
      "14233    0.057893      0.646734  2019-01-03  12/25/2018 0:00    0 - 2 Years   \n",
      "14234    0.057893      0.646734  2019-01-08  12/25/2018 0:00    0 - 2 Years   \n",
      "14235    0.057893      0.646734  2019-01-09  12/25/2018 0:00    0 - 2 Years   \n",
      "\n",
      "          DepartmentDSC  HospitalDay  \\\n",
      "0           LT CVICU 17    -0.357143   \n",
      "1           LT CVICU 17    -0.357143   \n",
      "2      WT PUL ADOL ENDO    -0.261905   \n",
      "3             LT PICU 9    -0.333333   \n",
      "4           LT CVICU 17    -0.357143   \n",
      "...                 ...          ...   \n",
      "14231        LT PICU 10    -0.190476   \n",
      "14232        LT PICU 10    -0.166667   \n",
      "14233        LT PICU 10    -0.095238   \n",
      "14234        LT PICU 10     0.023810   \n",
      "14235        LT PICU 10     0.047619   \n",
      "\n",
      "                                            LineDrainDSC  LineCount   LineDay  \\\n",
      "0      [REMOVED] CVC Triple Lumen - 04/01/19 Right In...        0.0 -0.318841   \n",
      "1      [REMOVED] CVC Double Lumen - 10/29/18 Right In...        0.0 -0.318841   \n",
      "2            PICC Single Lumen - 08/23/17 Right Upperarm        0.0 -0.318841   \n",
      "3      [REMOVED] CVC Triple Lumen - 05/17/19 Right Fe...        0.0 -0.318841   \n",
      "4      [REMOVED] CVC Double Lumen - 05/21/19 Right In...        0.0 -0.318841   \n",
      "...                                                  ...        ...       ...   \n",
      "14231  CVC Double Lumen - 12/24/18 Right Internal jug...        0.0 -0.246377   \n",
      "14232  CVC Double Lumen - 12/24/18 Right Internal jug...        0.0 -0.231884   \n",
      "14233  CVC Double Lumen - 12/24/18 Right Internal jug...        0.0 -0.188406   \n",
      "14234  CVC Double Lumen - 12/24/18 Right Internal jug...        0.0 -0.115942   \n",
      "14235  CVC Double Lumen - 12/24/18 Right Internal jug...        0.0 -0.101449   \n",
      "\n",
      "       ...  SedatedLast2  ICUDaysLast30  PICUDaysLast30  NICUDaysLast30  \\\n",
      "0      ...           1.0       0.142857             0.0             0.0   \n",
      "1      ...           1.0       0.142857             0.0             0.0   \n",
      "2      ...           0.0       0.000000             0.0             0.0   \n",
      "3      ...           0.0       0.142857             1.0             0.0   \n",
      "4      ...           1.0       0.142857             0.0             0.0   \n",
      "...    ...           ...            ...             ...             ...   \n",
      "14231  ...           0.0       1.142857             8.0             0.0   \n",
      "14232  ...           0.0       1.285714             9.0             0.0   \n",
      "14233  ...           0.0       1.714286            12.0             0.0   \n",
      "14234  ...           0.0       2.428571            17.0             0.0   \n",
      "14235  ...           0.0       2.571429            18.0             0.0   \n",
      "\n",
      "       CVICUDaysLast30  ICUDaysLast15  ICUDaysLast5  ICUDaysLast3  \\\n",
      "0                  1.0       0.166667          0.25      0.333333   \n",
      "1                  1.0       0.166667          0.25      0.333333   \n",
      "2                  0.0       0.000000          0.00      0.000000   \n",
      "3                  0.0       0.166667          0.25      0.333333   \n",
      "4                  1.0       0.166667          0.25      0.333333   \n",
      "...                ...            ...           ...           ...   \n",
      "14231              0.0       1.333333          1.25      1.000000   \n",
      "14232              0.0       1.500000          1.25      1.000000   \n",
      "14233              0.0       2.000000          1.25      1.000000   \n",
      "14234              0.0       2.500000          1.25      1.000000   \n",
      "14235              0.0       2.500000          1.25      1.000000   \n",
      "\n",
      "       ICUDaysLast2  HasCLABSI_numeric  \n",
      "0               0.5                0.0  \n",
      "1               0.5                0.0  \n",
      "2               0.0                0.0  \n",
      "3               0.5                0.0  \n",
      "4               0.5                0.0  \n",
      "...             ...                ...  \n",
      "14231           1.0                0.0  \n",
      "14232           1.0                0.0  \n",
      "14233           1.0                0.0  \n",
      "14234           1.0                0.0  \n",
      "14235           1.0                0.0  \n",
      "\n",
      "[14236 rows x 250 columns]\n"
     ]
    }
   ],
   "source": [
    "from sklearn.preprocessing import RobustScaler\n",
    "\n",
    "# Identify numerical columns\n",
    "numerical_columns = Bzan6361_clabsi_1.select_dtypes(include=['float64', 'int64']).columns\n",
    "\n",
    "# Initialize the RobustScaler\n",
    "scaler = RobustScaler()\n",
    "\n",
    "# Fit and transform only the numerical columns\n",
    "Bzan6361_clabsi_1[numerical_columns] = scaler.fit_transform(Bzan6361_clabsi_1[numerical_columns])\n",
    "\n",
    "# Display the updated dataset\n",
    "print(Bzan6361_clabsi_1)\n"
   ]
  },
  {
   "cell_type": "code",
   "execution_count": 28,
   "id": "e7dafefc-8c3d-403c-a84b-a1975b0f95c6",
   "metadata": {},
   "outputs": [
    {
     "name": "stdout",
     "output_type": "stream",
     "text": [
      "                   Clabsi is True  Clabsi is False\n",
      "PatientKey              -0.377446        -0.410855\n",
      "EncounterKey            -0.114038        -0.003367\n",
      "HospitalDay              1.272894         0.516496\n",
      "LineCount                0.153846         0.179710\n",
      "LineDay                  0.362876         0.894120\n",
      "...                           ...              ...\n",
      "ICUDaysLast15            1.092949         0.592816\n",
      "ICUDaysLast5             0.581731         0.368091\n",
      "ICUDaysLast3             0.474359         0.311031\n",
      "ICUDaysLast2             0.480769         0.320572\n",
      "HasCLABSI_numeric        1.000000         0.000000\n",
      "\n",
      "[226 rows x 2 columns]\n"
     ]
    }
   ],
   "source": [
    "# Comparing Comparing the mean of numerical variables when the CLABSI is true and false.\n",
    "# It able to see the big gap bacasue outliers pull up the mean when CLABSI is True.\n",
    "\n",
    "mean_numericals_clabsi_true = Bzan6361_clabsi_1[Bzan6361_clabsi_1['HasCLABSI'] == True][numeric_columns].mean()\n",
    "\n",
    "mean_numericals_clabsi_False = Bzan6361_clabsi_1[Bzan6361_clabsi_1['HasCLABSI'] == False][numeric_columns].mean()\n",
    "\n",
    "comparing_numericals = pd.DataFrame({\n",
    "    'Clabsi is True':mean_numericals_clabsi_true,\n",
    "    'Clabsi is False':mean_numericals_clabsi_False\n",
    "})\n",
    "\n",
    "print(comparing_numericals)"
   ]
  },
  {
   "cell_type": "markdown",
   "id": "a4f61683-1cb1-4a99-bf93-f32edd82e3c3",
   "metadata": {},
   "source": [
    "The means of the numerical variables before and after robust scaling indicate that robust scaling has effectively reduced the influence of outliers, especially for variables with high means or large differences between \"Clabsi is True\" and \"Clabsi is False\" groups.\n",
    "\n",
    "Before Scaling:\n",
    "\n",
    "Some variables (e.g., CountMedicationsLast30 and HCLAdministeredLast15) show large differences between the mean values of the \"Clabsi is True\" and \"Clabsi is False\" groups. This suggests the presence of significant outliers, which are skewing the means.\n",
    "Many variables have extreme mean values, indicating that outliers are likely affecting the central tendency.\n",
    "After Robust Scaling:\n",
    "\n",
    "The means of many variables are closer between the two groups. For instance, CountMedicationsLast30 and HCLAdministeredLast15 now show much smaller differences between \"Clabsi is True\" and \"Clabsi is False,\" indicating reduced outlier influence.\n",
    "Robust scaling has effectively brought the means to a more comparable level, especially for variables with previously extreme values, as it scales based on the median and interquartile range, making it resistant to outliers.\n",
    "Conclusion\n",
    "Robust scaling appears to have successfully mitigated the impact of outliers on the dataset. This makes the data more suitable for further analysis, as extreme values are less likely to skew results."
   ]
  },
  {
   "cell_type": "markdown",
   "id": "4e91ab55-ea96-4d80-b356-10a8aa341268",
   "metadata": {},
   "source": [
    "Handling Data imbalance in Target variable"
   ]
  },
  {
   "cell_type": "markdown",
   "id": "1c2e625b-d1a9-485f-9a62-17a692fced46",
   "metadata": {},
   "source": [
    "Our objective is to apply SMOTE to handle imbalances. Our plan is to perform SMOTE after data split during modeling phase hence we will be continuing this step in  modeling."
   ]
  },
  {
   "cell_type": "markdown",
   "id": "1313b808-dbec-4898-b5f0-f862ebbba835",
   "metadata": {},
   "source": [
    "## Modeling Phase"
   ]
  },
  {
   "cell_type": "markdown",
   "id": "38173be8-344a-4df4-bec8-20a74ca36a30",
   "metadata": {},
   "source": [
    "Adaline Model"
   ]
  },
  {
   "cell_type": "code",
   "execution_count": 29,
   "id": "5684948d-b961-49c3-91de-6666f8befcde",
   "metadata": {},
   "outputs": [],
   "source": [
    "#drop unique columns \n",
    "adaline = Bzan6361_clabsi_1\n"
   ]
  },
  {
   "cell_type": "code",
   "execution_count": 30,
   "id": "e7a94d34-31ad-496b-b241-8e238be138eb",
   "metadata": {},
   "outputs": [],
   "source": [
    "# use variables with correaltion highter than 0.02\n",
    "\n",
    "adaline_Cols = ['HasCLABSI_numeric','DiagnosisCancerLast15',\n",
    "                  'PICUDaysLast30',\n",
    "                  'HCLAdministeredLast5',\n",
    "                  'AlteplaseAdministeredLast30',\n",
    "                  'HCLAdministeredLast15',\n",
    "                  'ICUDaysLast30',\n",
    "                  'HospitalDay',\n",
    "                  'MedsBowelRegimenLast30',\n",
    "                  'LineDaysDoubleLumen',\n",
    "                  'ChlorhexidineLast30',\n",
    "                  'CHGBathsLast30',\n",
    "                'HCLAdministeredLast30',         \n",
    "'ICUDaysLast15',                  \n",
    "'ChlorhexidineLast30',            \n",
    "'CHGBathsLast30',                \n",
    "'FlushedLast10',                  \n",
    "'CHGBathsLast15',                 \n",
    "'CountMedicationsLast30',         \n",
    "'SurgeriesAbdominalLast30',    \n",
    "'FlushedLast7',                   \n",
    "'DiagnosisDisorderLast15',        \n",
    "'CountMedicationsLast15',         \n",
    "'DressingChangesLast10',          \n",
    "'CountMedicationsLast5',          \n",
    "'MedsBowelRegimenLast15',         \n",
    "'AlteplaseAdministeredLast15',    \n",
    "'ICUDaysLast5',                   \n",
    "'MedsOralCareLast15',             \n",
    "'SurgeriesBloodLast30',           \n",
    "'UndergoingChemoTreatment',       \n",
    "'ICUDaysLast3',                   \n",
    "'CapChangesLast10',               \n",
    "'ICUDaysLast2',                   \n",
    "'CountMedicationsLast3',          \n",
    "'MedsOralCareLast5'              \n",
    "\n",
    "                  \n",
    "              ]\n",
    "\n",
    "adaline=adaline[adaline_Cols]"
   ]
  },
  {
   "cell_type": "markdown",
   "id": "fe10af70-a90e-4164-bce5-70da3b4658b0",
   "metadata": {},
   "source": [
    "#### Step 2: Preprocess data (Rescale Numerica Input Variables)\n",
    "We will only use numerical variables (i.e., int and float only).\n",
    "\n",
    "Split the data into train set and test set.\n"
   ]
  },
  {
   "cell_type": "code",
   "execution_count": 31,
   "id": "e3c46609-7486-449a-b002-9075b358cb2b",
   "metadata": {},
   "outputs": [],
   "source": [
    "from sklearn.preprocessing import StandardScaler\n",
    "\n",
    "adaline_X_numeric = adaline.drop(columns='HasCLABSI_numeric').select_dtypes('number')# all dtypes would be numbers only\n",
    "\n",
    "\n",
    "z_scaler = StandardScaler()\n",
    "scaled = z_scaler.fit_transform(adaline_X_numeric)\n",
    "adaline_X_numeric = pd.DataFrame(scaled, columns=adaline_X_numeric.columns)"
   ]
  },
  {
   "cell_type": "code",
   "execution_count": 32,
   "id": "762b3bcc-048e-4bcd-a509-aa8c87aeecf5",
   "metadata": {},
   "outputs": [],
   "source": [
    "adaline_Y =  adaline['HasCLABSI_numeric']"
   ]
  },
  {
   "cell_type": "code",
   "execution_count": 35,
   "id": "c4d0454c-2352-4d0d-9826-ab6032a40282",
   "metadata": {},
   "outputs": [],
   "source": [
    "from sklearn.model_selection import train_test_split\n",
    "from imblearn.over_sampling import SMOTE\n",
    "\n",
    "import numpy.random as random\n",
    "random_state = 10 \n",
    "\n",
    "adaline_X_train, adaline_X_test, adaline_y_train, adaline_y_test = train_test_split(adaline_X_numeric,\n",
    "                                                                                    adaline_Y,\n",
    "                                                                                    test_size=0.4,\n",
    "                                                                                    random_state=random_state, shuffle=True)\n",
    "\n",
    "smote = SMOTE()\n",
    "X_resampled, y_resampled = smote.fit_resample(adaline_X_train, adaline_y_train)"
   ]
  },
  {
   "cell_type": "code",
   "execution_count": 36,
   "id": "9f664c8d-bc30-4039-a3d2-90112a0e8c1c",
   "metadata": {},
   "outputs": [
    {
     "data": {
      "text/plain": [
       "((17024, 35), (5695, 35), (17024,), (5695,))"
      ]
     },
     "execution_count": 36,
     "metadata": {},
     "output_type": "execute_result"
    }
   ],
   "source": [
    "X_resampled.shape, adaline_X_test.shape, y_resampled.shape, adaline_y_test.shape"
   ]
  },
  {
   "cell_type": "code",
   "execution_count": 37,
   "id": "a3d99a2f-3414-444c-ae0d-ee62a77bdc99",
   "metadata": {},
   "outputs": [
    {
     "name": "stdout",
     "output_type": "stream",
     "text": [
      "weight (vector) w has 36 elements, as follows:\n",
      "\n",
      "[ 0.0133  0.0072 -0.0155 -0.0001  0.0062 -0.0072  0.0027  0.0011  0.\n",
      " -0.0017  0.0043  0.012  -0.0097  0.0103  0.0023  0.0045 -0.0114  0.0014\n",
      "  0.0148 -0.0108 -0.0198 -0.0174  0.0027  0.0238  0.0112  0.0167  0.001\n",
      "  0.014  -0.0027  0.0061 -0.0027 -0.0055  0.0013 -0.0048  0.0131  0.002 ]\n"
     ]
    }
   ],
   "source": [
    "import numpy.random as random\n",
    "\n",
    "random_state = 10\n",
    "rgen = random.RandomState(random_state)\n",
    "\n",
    "# useful variables, include bias\n",
    "n = adaline.shape[0]\n",
    "m = 35\n",
    "# ------\n",
    "epoches = 10\n",
    "eta = 0.01  #eta is learning rate\n",
    "\n",
    "\n",
    "w_old = rgen.normal(loc=0.0, scale=0.01, size = m + 1)\n",
    "delta_w = np.zeros(m + 1)\n",
    "\n",
    "\n",
    "print(f'weight (vector) w has {w_old.shape[0]} elements, as follows:')\n",
    "print()\n",
    "print(np.around(w_old, 4))"
   ]
  },
  {
   "cell_type": "markdown",
   "id": "f9fd56a8-a15e-49eb-ac24-0ae90c492d3c",
   "metadata": {},
   "source": [
    "Weight Initialization:\n",
    "In machine learning, weights are typically initialized with small random values to avoid symmetry during training.\n",
    "These weights will be updated iteratively during the training process using the Adaline learning rule.\n",
    "\n",
    "Bias Term:\n",
    "The inclusion of m + 1 (instead of m) accommodates the bias term, which accounts for the intercept in the model.\n",
    "\n",
    "Learning Rate (eta):\n",
    "This controls how much the weights are adjusted with each iteration. A smaller learning rate makes updates slower and more precise."
   ]
  },
  {
   "cell_type": "markdown",
   "id": "d3427c04-f969-49e8-bcb4-aca78d3764c5",
   "metadata": {},
   "source": [
    "#### Step 4: Apply Adaline Model Loop, with epochs equal to 10 and eta equal to 0.01"
   ]
  },
  {
   "cell_type": "code",
   "execution_count": 38,
   "id": "5bcc88a0-d5ea-4b07-8e45-eb7037b42cdd",
   "metadata": {},
   "outputs": [],
   "source": [
    "cost_values = []\n",
    "\n",
    "for _ in range(epoches):\n",
    "    # net input X values\n",
    "    z = np.dot(X_resampled, w_old[1:]) + w_old[0]\n",
    "    # activation\n",
    "    z_act = z * 1.0\n",
    "    # calculate error\n",
    "    error = y_resampled - z_act\n",
    "    # gradient\n",
    "    gradient = - np.dot(X_resampled.T, error)\n",
    "\n",
    "    # delta_weight: two-step\n",
    "    delta_w[1:] = - eta * gradient\n",
    "    delta_w[0] = eta * error.sum()\n",
    "    # update weight\n",
    "    w_new = w_old + delta_w\n",
    "    w_old = w_new\n",
    "    \n",
    "    # new in for-loop: calculate value of cost function\n",
    "    cost = error.dot(error) / 2.0\n",
    "    cost_values.append(cost)"
   ]
  },
  {
   "cell_type": "code",
   "execution_count": 39,
   "id": "80872141-d7ee-4a0c-8cb6-24b259d14953",
   "metadata": {},
   "outputs": [
    {
     "name": "stdout",
     "output_type": "stream",
     "text": [
      "[3.80639800e+03 1.11675025e+10 1.46390597e+17 1.98051919e+24\n",
      " 2.69177729e+31 3.66256045e+38 4.98487960e+45 6.78510308e+52\n",
      " 9.23562790e+59 1.25712514e+67]\n"
     ]
    }
   ],
   "source": [
    "print(np.round(cost_values, 3))"
   ]
  },
  {
   "cell_type": "markdown",
   "id": "338782f2-48a6-45ab-8300-d53a0cbfd9ef",
   "metadata": {},
   "source": [
    "#### Step 5 : *Re-train model with new `eta`*"
   ]
  },
  {
   "cell_type": "code",
   "execution_count": 40,
   "id": "cd080b03-2cc8-4e5e-818f-b811d6544866",
   "metadata": {},
   "outputs": [
    {
     "name": "stdout",
     "output_type": "stream",
     "text": [
      "weight (vector) w has 36 elements, as follows:\n",
      "\n",
      "[ 0.0133  0.0072 -0.0155 -0.0001  0.0062 -0.0072  0.0027  0.0011  0.\n",
      " -0.0017  0.0043  0.012  -0.0097  0.0103  0.0023  0.0045 -0.0114  0.0014\n",
      "  0.0148 -0.0108 -0.0198 -0.0174  0.0027  0.0238  0.0112  0.0167  0.001\n",
      "  0.014  -0.0027  0.0061 -0.0027 -0.0055  0.0013 -0.0048  0.0131  0.002 ]\n"
     ]
    }
   ],
   "source": [
    "random_state = 10\n",
    "rgen = random.RandomState(random_state)\n",
    "\n",
    "\n",
    "n = adaline.shape[0]\n",
    "m = 35\n",
    "# ------\n",
    "epoches = 10\n",
    "eta = 0.0000001\n",
    "\n",
    "\n",
    "w_old = rgen.normal(loc=0.0, scale=0.01, size = m + 1)\n",
    "delta_w = np.zeros(m + 1)\n",
    "\n",
    "\n",
    "print(f'weight (vector) w has {w_old.shape[0]} elements, as follows:')\n",
    "print()\n",
    "print(np.around(w_old, 4))\n"
   ]
  },
  {
   "cell_type": "code",
   "execution_count": 41,
   "id": "8e2a330a-2be1-47a1-8ed7-03c1133ce004",
   "metadata": {},
   "outputs": [],
   "source": [
    "cost_values = []\n",
    "\n",
    "for _ in range(epoches):\n",
    "    \n",
    "    z = np.dot(X_resampled, w_old[1:]) + w_old[0]\n",
    "    \n",
    "    z_act = z * 1.0\n",
    "    \n",
    "    error = y_resampled - z_act\n",
    "    \n",
    "    gradient = - np.dot(X_resampled.T, error)\n",
    "    # delta_weight: \n",
    "    delta_w[1:] = - eta * gradient\n",
    "    delta_w[0] = eta * error.sum()\n",
    "    # update weight\n",
    "    w_new = w_old + delta_w\n",
    "    w_old = w_new\n",
    "    \n",
    "    # new in for-loop: calculate value of cost function\n",
    "    cost = error.dot(error) / 2.0\n",
    "    cost_values.append(cost)"
   ]
  },
  {
   "cell_type": "code",
   "execution_count": 42,
   "id": "73906a64-551e-42ea-99c5-9a9068469c00",
   "metadata": {},
   "outputs": [
    {
     "name": "stdout",
     "output_type": "stream",
     "text": [
      "[3806.398 3737.125 3672.163 3611.208 3553.979 3500.215 3449.673 3402.127\n",
      " 3357.368 3315.203]\n"
     ]
    }
   ],
   "source": [
    "print(np.round(cost_values, 3))"
   ]
  },
  {
   "cell_type": "code",
   "execution_count": 43,
   "id": "8053cca8-71ce-4070-bb42-42ab518125d9",
   "metadata": {},
   "outputs": [
    {
     "name": "stdout",
     "output_type": "stream",
     "text": [
      "The trained model made 11016.0 correct and 6008.0 incorrect classification on the train data.\n",
      "Accuracy is 0.647\n"
     ]
    }
   ],
   "source": [
    "z = np.dot(X_resampled, w_old[1:]) + w_old[0]\n",
    "\n",
    "\n",
    "z_clip = np.clip(z, a_min=-250, a_max=250)\n",
    "z_act = 1. / (1. + np.exp(-z_clip))\n",
    "\n",
    "\n",
    "y_pred = (z_act >= 0.5).astype(int)\n",
    "\n",
    "\n",
    "accuracy = accuracy_score(y_true=y_resampled, y_pred=y_pred)\n",
    "\n",
    "\n",
    "n_correct = y_resampled.shape[0] * accuracy\n",
    "n_incorrect = y_resampled.shape[0] * (1 - accuracy)\n",
    "\n",
    "\n",
    "print('The trained model made {:.1f} correct and {:.1f} incorrect classification on the train data.'.format(\n",
    "    n_correct, n_incorrect))\n",
    "print('Accuracy is {:.3f}'.format(accuracy))"
   ]
  },
  {
   "cell_type": "markdown",
   "id": "ffc32127-968d-4a58-9bbc-58aeafe2a2a5",
   "metadata": {},
   "source": [
    "#### Step 6:  confusion_matrix, checking the result."
   ]
  },
  {
   "cell_type": "markdown",
   "id": "8354086f-7901-426a-a525-9fc198e8fc1f",
   "metadata": {},
   "source": [
    "assess model accuracy* - on test set"
   ]
  },
  {
   "cell_type": "code",
   "execution_count": 44,
   "id": "b9abb015-9de5-423e-814a-54b1da20ed34",
   "metadata": {},
   "outputs": [
    {
     "data": {
      "text/plain": [
       "((5695, 35), (5695,))"
      ]
     },
     "execution_count": 44,
     "metadata": {},
     "output_type": "execute_result"
    }
   ],
   "source": [
    "adaline_X_test.shape, adaline_y_test.shape"
   ]
  },
  {
   "cell_type": "code",
   "execution_count": 45,
   "id": "01d66737-0be0-4ff6-a1af-79bdfc3d4acf",
   "metadata": {},
   "outputs": [
    {
     "name": "stdout",
     "output_type": "stream",
     "text": [
      "The trained model made 3133.0 correct and 2562.0 incorrect classification on the test data.\n",
      "Accuracy is 0.550\n"
     ]
    }
   ],
   "source": [
    "z = np.dot(adaline_X_test, w_old[1:]) + w_old[0]\n",
    "\n",
    "\n",
    "z_clip = np.clip(z, a_min=-250, a_max=250)\n",
    "z_act = 1. / (1. + np.exp(-z_clip))\n",
    "\n",
    "\n",
    "y_pred = (z_act >= 0.5).astype(int)\n",
    "\n",
    "\n",
    "accuracy = accuracy_score(y_true=adaline_y_test, y_pred=y_pred)\n",
    "\n",
    "\n",
    "n_correct = adaline_y_test.shape[0] * accuracy\n",
    "n_incorrect = adaline_y_test.shape[0] * (1 - accuracy)\n",
    "\n",
    "\n",
    "print('The trained model made {:.1f} correct and {:.1f} incorrect classification on the test data.'.format(\n",
    "    n_correct, n_incorrect))\n",
    "print('Accuracy is {:.3f}'.format(accuracy))"
   ]
  },
  {
   "cell_type": "code",
   "execution_count": 46,
   "id": "9be85956-18e3-4800-8be0-763bf763faee",
   "metadata": {},
   "outputs": [
    {
     "name": "stdout",
     "output_type": "stream",
     "text": [
      "Accuracy: 0.5501316944688323\n",
      "Precision: 0.004295197188598204\n",
      "Recall: 0.4782608695652174\n"
     ]
    }
   ],
   "source": [
    "adl_accuracy = accuracy_score(y_true=adaline_y_test, y_pred= y_pred)\n",
    "\n",
    "adl_precision = precision_score(y_true=adaline_y_test, y_pred= y_pred) \n",
    "\n",
    "adl_recall = recall_score(y_true=adaline_y_test, y_pred= y_pred)\n",
    "\n",
    "print(\"Accuracy:\", adl_accuracy)\n",
    "print(\"Precision:\", adl_precision)\n",
    "print(\"Recall:\", adl_recall)"
   ]
  },
  {
   "cell_type": "code",
   "execution_count": 47,
   "id": "b1a01e44-ac57-442e-8250-ccfae4657125",
   "metadata": {},
   "outputs": [
    {
     "data": {
      "text/plain": [
       "<Figure size 2000x1000 with 0 Axes>"
      ]
     },
     "metadata": {},
     "output_type": "display_data"
    },
    {
     "data": {
      "image/png": "[encoded data removed]",
      "text/plain": [
       "<Figure size 640x480 with 2 Axes>"
      ]
     },
     "metadata": {},
     "output_type": "display_data"
    }
   ],
   "source": [
    "from sklearn.metrics import confusion_matrix, ConfusionMatrixDisplay \n",
    "\n",
    "knn_metrics = confusion_matrix(adaline_y_test, y_pred)\n",
    "\n",
    "plt.figure(figsize=(20, 10))\n",
    "ConfusionMatrixDisplay(confusion_matrix=knn_metrics).plot();\n",
    "plt.show()"
   ]
  },
  {
   "cell_type": "markdown",
   "id": "594cc57b-d86d-492a-809f-5853be23b8c7",
   "metadata": {},
   "source": [
    "KNN K Nearest Neighbours\n",
    "\n"
   ]
  },
  {
   "cell_type": "markdown",
   "id": "3c6d0a01-4b77-4a64-b9a9-6604955e3ccd",
   "metadata": {},
   "source": [
    "#### Step 1: Complete the Data Preparation Phase"
   ]
  },
  {
   "cell_type": "code",
   "execution_count": 48,
   "id": "13e174bc-76a8-435e-95f5-0d306bdb671c",
   "metadata": {},
   "outputs": [],
   "source": [
    "# change catogrical varibale to dummy variables\n",
    "df=Bzan6361_clabsi_1\n",
    "nominalCols = ['HasCLABSI_numeric',\n",
    "               'AgeGroup',\n",
    "               'DepartmentDSC',\n",
    "               'HasFutureEncounterCLABSI',\n",
    "               'HadPreviousCLABSI',\n",
    "               'HasRecentLDAFlowsheetRecords',\n",
    "               'DiagnosisLeukemiaLast30',\n",
    "               'DiagnosisLeukemiaLast15',\n",
    "               'DiagnosisLeukemiaLast5',\n",
    "               'DiagnosisLeukemiaLast3',\n",
    "               'DiagnosisLeukemiaLast2',\n",
    "               'DiagnosisTransplantLast30',\n",
    "               'DiagnosisTransplantLast15',\n",
    "               'DiagnosisTransplantLast5',\n",
    "               'DiagnosisTransplantLast3',\n",
    "               'DiagnosisTransplantLast2',\n",
    "               'DiagnosisSwellingLast30',\n",
    "               'DiagnosisSwellingLast15',\n",
    "               'DiagnosisSwellingLast5',\n",
    "               'DiagnosisSwellingLast3',\n",
    "               'DiagnosisSwellingLast2'\n",
    "               \n",
    "              ]\n",
    "X_nominal = df[nominalCols]\n",
    "\n",
    "\n",
    "transformerNominal = make_pipeline(preprocessing.OneHotEncoder(handle_unknown='ignore', categories='auto'))\n",
    "\n",
    "oneHotEncoder = preprocessing.OneHotEncoder(handle_unknown='ignore', categories='auto')\n",
    "oneHotEncoder.fit(X_nominal)\n",
    "\n",
    "#column label\n",
    "labelsPpl1 = ['_'.join([item[0], str(label)]) for item in zip(nominalCols, oneHotEncoder.categories_) for label in item[1].\n",
    "              tolist()]"
   ]
  },
  {
   "cell_type": "code",
   "execution_count": 49,
   "id": "dd8c1a77-ff9c-4c80-aae4-0de3508d9a69",
   "metadata": {},
   "outputs": [
    {
     "data": {
      "text/html": [
       "<div>\n",
       "<style scoped>\n",
       "    .dataframe tbody tr th:only-of-type {\n",
       "        vertical-align: middle;\n",
       "    }\n",
       "\n",
       "    .dataframe tbody tr th {\n",
       "        vertical-align: top;\n",
       "    }\n",
       "\n",
       "    .dataframe thead th {\n",
       "        text-align: right;\n",
       "    }\n",
       "</style>\n",
       "<table border=\"1\" class=\"dataframe\">\n",
       "  <thead>\n",
       "    <tr style=\"text-align: right;\">\n",
       "      <th></th>\n",
       "      <th>HasCLABSI_numeric_0.0</th>\n",
       "      <th>HasCLABSI_numeric_1.0</th>\n",
       "      <th>AgeGroup_0 - 2 Years</th>\n",
       "      <th>AgeGroup_10 - 12 Years</th>\n",
       "      <th>AgeGroup_12 - 14 Years</th>\n",
       "      <th>AgeGroup_14 - 16 Years</th>\n",
       "      <th>AgeGroup_16 - 18 Years</th>\n",
       "      <th>AgeGroup_18 - 20 Years</th>\n",
       "      <th>AgeGroup_2 - 4 Years</th>\n",
       "      <th>AgeGroup_20 - 22 Years</th>\n",
       "      <th>...</th>\n",
       "      <th>DiagnosisSwellingLast30_False</th>\n",
       "      <th>DiagnosisSwellingLast30_True</th>\n",
       "      <th>DiagnosisSwellingLast15_False</th>\n",
       "      <th>DiagnosisSwellingLast15_True</th>\n",
       "      <th>DiagnosisSwellingLast5_False</th>\n",
       "      <th>DiagnosisSwellingLast5_True</th>\n",
       "      <th>DiagnosisSwellingLast3_False</th>\n",
       "      <th>DiagnosisSwellingLast3_True</th>\n",
       "      <th>DiagnosisSwellingLast2_False</th>\n",
       "      <th>DiagnosisSwellingLast2_True</th>\n",
       "    </tr>\n",
       "  </thead>\n",
       "  <tbody>\n",
       "    <tr>\n",
       "      <th>0</th>\n",
       "      <td>1.0</td>\n",
       "      <td>0.0</td>\n",
       "      <td>0.0</td>\n",
       "      <td>0.0</td>\n",
       "      <td>0.0</td>\n",
       "      <td>0.0</td>\n",
       "      <td>0.0</td>\n",
       "      <td>0.0</td>\n",
       "      <td>0.0</td>\n",
       "      <td>0.0</td>\n",
       "      <td>...</td>\n",
       "      <td>1.0</td>\n",
       "      <td>0.0</td>\n",
       "      <td>1.0</td>\n",
       "      <td>0.0</td>\n",
       "      <td>1.0</td>\n",
       "      <td>0.0</td>\n",
       "      <td>1.0</td>\n",
       "      <td>0.0</td>\n",
       "      <td>1.0</td>\n",
       "      <td>0.0</td>\n",
       "    </tr>\n",
       "    <tr>\n",
       "      <th>1</th>\n",
       "      <td>1.0</td>\n",
       "      <td>0.0</td>\n",
       "      <td>0.0</td>\n",
       "      <td>0.0</td>\n",
       "      <td>0.0</td>\n",
       "      <td>0.0</td>\n",
       "      <td>0.0</td>\n",
       "      <td>0.0</td>\n",
       "      <td>0.0</td>\n",
       "      <td>0.0</td>\n",
       "      <td>...</td>\n",
       "      <td>1.0</td>\n",
       "      <td>0.0</td>\n",
       "      <td>1.0</td>\n",
       "      <td>0.0</td>\n",
       "      <td>1.0</td>\n",
       "      <td>0.0</td>\n",
       "      <td>1.0</td>\n",
       "      <td>0.0</td>\n",
       "      <td>1.0</td>\n",
       "      <td>0.0</td>\n",
       "    </tr>\n",
       "    <tr>\n",
       "      <th>2</th>\n",
       "      <td>1.0</td>\n",
       "      <td>0.0</td>\n",
       "      <td>0.0</td>\n",
       "      <td>0.0</td>\n",
       "      <td>0.0</td>\n",
       "      <td>1.0</td>\n",
       "      <td>0.0</td>\n",
       "      <td>0.0</td>\n",
       "      <td>0.0</td>\n",
       "      <td>0.0</td>\n",
       "      <td>...</td>\n",
       "      <td>1.0</td>\n",
       "      <td>0.0</td>\n",
       "      <td>1.0</td>\n",
       "      <td>0.0</td>\n",
       "      <td>1.0</td>\n",
       "      <td>0.0</td>\n",
       "      <td>1.0</td>\n",
       "      <td>0.0</td>\n",
       "      <td>1.0</td>\n",
       "      <td>0.0</td>\n",
       "    </tr>\n",
       "    <tr>\n",
       "      <th>3</th>\n",
       "      <td>1.0</td>\n",
       "      <td>0.0</td>\n",
       "      <td>1.0</td>\n",
       "      <td>0.0</td>\n",
       "      <td>0.0</td>\n",
       "      <td>0.0</td>\n",
       "      <td>0.0</td>\n",
       "      <td>0.0</td>\n",
       "      <td>0.0</td>\n",
       "      <td>0.0</td>\n",
       "      <td>...</td>\n",
       "      <td>1.0</td>\n",
       "      <td>0.0</td>\n",
       "      <td>1.0</td>\n",
       "      <td>0.0</td>\n",
       "      <td>1.0</td>\n",
       "      <td>0.0</td>\n",
       "      <td>1.0</td>\n",
       "      <td>0.0</td>\n",
       "      <td>1.0</td>\n",
       "      <td>0.0</td>\n",
       "    </tr>\n",
       "    <tr>\n",
       "      <th>4</th>\n",
       "      <td>1.0</td>\n",
       "      <td>0.0</td>\n",
       "      <td>0.0</td>\n",
       "      <td>0.0</td>\n",
       "      <td>0.0</td>\n",
       "      <td>0.0</td>\n",
       "      <td>0.0</td>\n",
       "      <td>0.0</td>\n",
       "      <td>0.0</td>\n",
       "      <td>0.0</td>\n",
       "      <td>...</td>\n",
       "      <td>1.0</td>\n",
       "      <td>0.0</td>\n",
       "      <td>1.0</td>\n",
       "      <td>0.0</td>\n",
       "      <td>1.0</td>\n",
       "      <td>0.0</td>\n",
       "      <td>1.0</td>\n",
       "      <td>0.0</td>\n",
       "      <td>1.0</td>\n",
       "      <td>0.0</td>\n",
       "    </tr>\n",
       "  </tbody>\n",
       "</table>\n",
       "<p>5 rows × 103 columns</p>\n",
       "</div>"
      ],
      "text/plain": [
       "   HasCLABSI_numeric_0.0  HasCLABSI_numeric_1.0  AgeGroup_0 - 2 Years  \\\n",
       "0                    1.0                    0.0                   0.0   \n",
       "1                    1.0                    0.0                   0.0   \n",
       "2                    1.0                    0.0                   0.0   \n",
       "3                    1.0                    0.0                   1.0   \n",
       "4                    1.0                    0.0                   0.0   \n",
       "\n",
       "   AgeGroup_10 - 12 Years  AgeGroup_12 - 14 Years  AgeGroup_14 - 16 Years  \\\n",
       "0                     0.0                     0.0                     0.0   \n",
       "1                     0.0                     0.0                     0.0   \n",
       "2                     0.0                     0.0                     1.0   \n",
       "3                     0.0                     0.0                     0.0   \n",
       "4                     0.0                     0.0                     0.0   \n",
       "\n",
       "   AgeGroup_16 - 18 Years  AgeGroup_18 - 20 Years  AgeGroup_2 - 4 Years  \\\n",
       "0                     0.0                     0.0                   0.0   \n",
       "1                     0.0                     0.0                   0.0   \n",
       "2                     0.0                     0.0                   0.0   \n",
       "3                     0.0                     0.0                   0.0   \n",
       "4                     0.0                     0.0                   0.0   \n",
       "\n",
       "   AgeGroup_20 - 22 Years  ...  DiagnosisSwellingLast30_False  \\\n",
       "0                     0.0  ...                            1.0   \n",
       "1                     0.0  ...                            1.0   \n",
       "2                     0.0  ...                            1.0   \n",
       "3                     0.0  ...                            1.0   \n",
       "4                     0.0  ...                            1.0   \n",
       "\n",
       "   DiagnosisSwellingLast30_True  DiagnosisSwellingLast15_False  \\\n",
       "0                           0.0                            1.0   \n",
       "1                           0.0                            1.0   \n",
       "2                           0.0                            1.0   \n",
       "3                           0.0                            1.0   \n",
       "4                           0.0                            1.0   \n",
       "\n",
       "   DiagnosisSwellingLast15_True  DiagnosisSwellingLast5_False  \\\n",
       "0                           0.0                           1.0   \n",
       "1                           0.0                           1.0   \n",
       "2                           0.0                           1.0   \n",
       "3                           0.0                           1.0   \n",
       "4                           0.0                           1.0   \n",
       "\n",
       "   DiagnosisSwellingLast5_True  DiagnosisSwellingLast3_False  \\\n",
       "0                          0.0                           1.0   \n",
       "1                          0.0                           1.0   \n",
       "2                          0.0                           1.0   \n",
       "3                          0.0                           1.0   \n",
       "4                          0.0                           1.0   \n",
       "\n",
       "   DiagnosisSwellingLast3_True  DiagnosisSwellingLast2_False  \\\n",
       "0                          0.0                           1.0   \n",
       "1                          0.0                           1.0   \n",
       "2                          0.0                           1.0   \n",
       "3                          0.0                           1.0   \n",
       "4                          0.0                           1.0   \n",
       "\n",
       "   DiagnosisSwellingLast2_True  \n",
       "0                          0.0  \n",
       "1                          0.0  \n",
       "2                          0.0  \n",
       "3                          0.0  \n",
       "4                          0.0  \n",
       "\n",
       "[5 rows x 103 columns]"
      ]
     },
     "execution_count": 49,
     "metadata": {},
     "output_type": "execute_result"
    }
   ],
   "source": [
    "transformerNominal = make_pipeline(preprocessing.OneHotEncoder(handle_unknown='ignore', categories='auto'))\n",
    "\n",
    "oneHotEncoder = preprocessing.OneHotEncoder(handle_unknown='ignore', categories='auto')\n",
    "oneHotEncoder.fit(X_nominal)\n",
    "\n",
    "#column label\n",
    "labelsPpl1 = ['_'.join([item[0], str(label)]) for item in zip(nominalCols, oneHotEncoder.categories_) for label in item[1].\n",
    "              tolist()]\n",
    "\n",
    "\n",
    "outputPpl1 = transformerNominal.fit_transform(X_nominal).toarray()\n",
    "outPpl1 = pd.DataFrame(outputPpl1, columns=labelsPpl1, index=X_nominal.index)\n",
    "outPpl1.head()"
   ]
  },
  {
   "cell_type": "code",
   "execution_count": 50,
   "id": "ebbe1cda-1980-4b1f-a81f-22f1a808c18e",
   "metadata": {},
   "outputs": [],
   "source": [
    "# standardize numerical variables which selected from assignment#1\n",
    "intervalLogCols = ['HasCLABSI_numeric','DiagnosisCancerLast15',\n",
    "                  'PICUDaysLast30',\n",
    "                  'HCLAdministeredLast5',\n",
    "                  'AlteplaseAdministeredLast30',\n",
    "                  'HCLAdministeredLast15',\n",
    "                  'ICUDaysLast30',\n",
    "                  'HospitalDay',\n",
    "                  'MedsBowelRegimenLast30',\n",
    "                  'LineDaysDoubleLumen',\n",
    "                  'ChlorhexidineLast30',\n",
    "                  'CHGBathsLast30',\n",
    "                'HCLAdministeredLast30',         \n",
    "'ICUDaysLast15',                  \n",
    "'ChlorhexidineLast30',            \n",
    "'CHGBathsLast30'      \n",
    "                  \n",
    "              ]\n",
    "X_intervalLog = df[intervalLogCols]"
   ]
  },
  {
   "cell_type": "code",
   "execution_count": 51,
   "id": "f88d6a10-aeab-415b-b2c9-47a9719c703c",
   "metadata": {},
   "outputs": [],
   "source": [
    "#make a instance\n",
    "transformerIntervalLog = make_pipeline(preprocessing.FunctionTransformer(np.log1p, validate=False),\n",
    "                                       preprocessing.StandardScaler())\n",
    "\n",
    "\n",
    "#column label\n",
    "labelsPpl2 = X_intervalLog.columns.tolist()"
   ]
  },
  {
   "cell_type": "code",
   "execution_count": 52,
   "id": "16d42abd-901e-4ca5-90eb-5fc1282f9a5c",
   "metadata": {},
   "outputs": [
    {
     "data": {
      "text/html": [
       "<div>\n",
       "<style scoped>\n",
       "    .dataframe tbody tr th:only-of-type {\n",
       "        vertical-align: middle;\n",
       "    }\n",
       "\n",
       "    .dataframe tbody tr th {\n",
       "        vertical-align: top;\n",
       "    }\n",
       "\n",
       "    .dataframe thead th {\n",
       "        text-align: right;\n",
       "    }\n",
       "</style>\n",
       "<table border=\"1\" class=\"dataframe\">\n",
       "  <thead>\n",
       "    <tr style=\"text-align: right;\">\n",
       "      <th></th>\n",
       "      <th>HasCLABSI_numeric</th>\n",
       "      <th>DiagnosisCancerLast15</th>\n",
       "      <th>PICUDaysLast30</th>\n",
       "      <th>HCLAdministeredLast5</th>\n",
       "      <th>AlteplaseAdministeredLast30</th>\n",
       "      <th>HCLAdministeredLast15</th>\n",
       "      <th>ICUDaysLast30</th>\n",
       "      <th>HospitalDay</th>\n",
       "      <th>MedsBowelRegimenLast30</th>\n",
       "      <th>LineDaysDoubleLumen</th>\n",
       "      <th>ChlorhexidineLast30</th>\n",
       "      <th>CHGBathsLast30</th>\n",
       "      <th>HCLAdministeredLast30</th>\n",
       "      <th>ICUDaysLast15</th>\n",
       "      <th>ChlorhexidineLast30</th>\n",
       "      <th>CHGBathsLast30</th>\n",
       "    </tr>\n",
       "  </thead>\n",
       "  <tbody>\n",
       "    <tr>\n",
       "      <th>0</th>\n",
       "      <td>-0.060548</td>\n",
       "      <td>-0.110959</td>\n",
       "      <td>-0.514385</td>\n",
       "      <td>0.192683</td>\n",
       "      <td>-0.229034</td>\n",
       "      <td>-0.225029</td>\n",
       "      <td>-0.465275</td>\n",
       "      <td>-1.061588</td>\n",
       "      <td>-0.429969</td>\n",
       "      <td>-0.717290</td>\n",
       "      <td>-0.196968</td>\n",
       "      <td>-1.085705</td>\n",
       "      <td>-0.355232</td>\n",
       "      <td>-0.380594</td>\n",
       "      <td>-0.196968</td>\n",
       "      <td>-1.085705</td>\n",
       "    </tr>\n",
       "    <tr>\n",
       "      <th>1</th>\n",
       "      <td>-0.060548</td>\n",
       "      <td>-0.110959</td>\n",
       "      <td>-0.514385</td>\n",
       "      <td>-0.561137</td>\n",
       "      <td>-0.229034</td>\n",
       "      <td>-0.563402</td>\n",
       "      <td>-0.465275</td>\n",
       "      <td>-1.061588</td>\n",
       "      <td>0.733626</td>\n",
       "      <td>-0.618828</td>\n",
       "      <td>-0.196968</td>\n",
       "      <td>-1.085705</td>\n",
       "      <td>-0.567810</td>\n",
       "      <td>-0.380594</td>\n",
       "      <td>-0.196968</td>\n",
       "      <td>-1.085705</td>\n",
       "    </tr>\n",
       "    <tr>\n",
       "      <th>2</th>\n",
       "      <td>-0.060548</td>\n",
       "      <td>-0.110959</td>\n",
       "      <td>-0.514385</td>\n",
       "      <td>-0.561137</td>\n",
       "      <td>-0.229034</td>\n",
       "      <td>-0.563402</td>\n",
       "      <td>-0.698348</td>\n",
       "      <td>-0.833000</td>\n",
       "      <td>-0.429969</td>\n",
       "      <td>-0.717290</td>\n",
       "      <td>-0.196968</td>\n",
       "      <td>-0.885598</td>\n",
       "      <td>-0.567810</td>\n",
       "      <td>-0.702997</td>\n",
       "      <td>-0.196968</td>\n",
       "      <td>-0.885598</td>\n",
       "    </tr>\n",
       "    <tr>\n",
       "      <th>3</th>\n",
       "      <td>-0.060548</td>\n",
       "      <td>-0.110959</td>\n",
       "      <td>0.181227</td>\n",
       "      <td>-0.561137</td>\n",
       "      <td>-0.229034</td>\n",
       "      <td>-0.563402</td>\n",
       "      <td>-0.465275</td>\n",
       "      <td>-1.001413</td>\n",
       "      <td>-0.429969</td>\n",
       "      <td>-0.717290</td>\n",
       "      <td>-0.196968</td>\n",
       "      <td>-0.885598</td>\n",
       "      <td>-0.567810</td>\n",
       "      <td>-0.380594</td>\n",
       "      <td>-0.196968</td>\n",
       "      <td>-0.885598</td>\n",
       "    </tr>\n",
       "    <tr>\n",
       "      <th>4</th>\n",
       "      <td>-0.060548</td>\n",
       "      <td>-0.110959</td>\n",
       "      <td>-0.514385</td>\n",
       "      <td>0.435359</td>\n",
       "      <td>-0.229034</td>\n",
       "      <td>-0.086492</td>\n",
       "      <td>-0.465275</td>\n",
       "      <td>-1.061588</td>\n",
       "      <td>-0.429969</td>\n",
       "      <td>-0.618828</td>\n",
       "      <td>-0.196968</td>\n",
       "      <td>-1.085705</td>\n",
       "      <td>-0.261906</td>\n",
       "      <td>-0.380594</td>\n",
       "      <td>-0.196968</td>\n",
       "      <td>-1.085705</td>\n",
       "    </tr>\n",
       "  </tbody>\n",
       "</table>\n",
       "</div>"
      ],
      "text/plain": [
       "   HasCLABSI_numeric  DiagnosisCancerLast15  PICUDaysLast30  \\\n",
       "0          -0.060548              -0.110959       -0.514385   \n",
       "1          -0.060548              -0.110959       -0.514385   \n",
       "2          -0.060548              -0.110959       -0.514385   \n",
       "3          -0.060548              -0.110959        0.181227   \n",
       "4          -0.060548              -0.110959       -0.514385   \n",
       "\n",
       "   HCLAdministeredLast5  AlteplaseAdministeredLast30  HCLAdministeredLast15  \\\n",
       "0              0.192683                    -0.229034              -0.225029   \n",
       "1             -0.561137                    -0.229034              -0.563402   \n",
       "2             -0.561137                    -0.229034              -0.563402   \n",
       "3             -0.561137                    -0.229034              -0.563402   \n",
       "4              0.435359                    -0.229034              -0.086492   \n",
       "\n",
       "   ICUDaysLast30  HospitalDay  MedsBowelRegimenLast30  LineDaysDoubleLumen  \\\n",
       "0      -0.465275    -1.061588               -0.429969            -0.717290   \n",
       "1      -0.465275    -1.061588                0.733626            -0.618828   \n",
       "2      -0.698348    -0.833000               -0.429969            -0.717290   \n",
       "3      -0.465275    -1.001413               -0.429969            -0.717290   \n",
       "4      -0.465275    -1.061588               -0.429969            -0.618828   \n",
       "\n",
       "   ChlorhexidineLast30  CHGBathsLast30  HCLAdministeredLast30  ICUDaysLast15  \\\n",
       "0            -0.196968       -1.085705              -0.355232      -0.380594   \n",
       "1            -0.196968       -1.085705              -0.567810      -0.380594   \n",
       "2            -0.196968       -0.885598              -0.567810      -0.702997   \n",
       "3            -0.196968       -0.885598              -0.567810      -0.380594   \n",
       "4            -0.196968       -1.085705              -0.261906      -0.380594   \n",
       "\n",
       "   ChlorhexidineLast30  CHGBathsLast30  \n",
       "0            -0.196968       -1.085705  \n",
       "1            -0.196968       -1.085705  \n",
       "2            -0.196968       -0.885598  \n",
       "3            -0.196968       -0.885598  \n",
       "4            -0.196968       -1.085705  "
      ]
     },
     "execution_count": 52,
     "metadata": {},
     "output_type": "execute_result"
    }
   ],
   "source": [
    "outputPpl2 = transformerIntervalLog.fit_transform(X_intervalLog)\n",
    "outPpl2 = pd.DataFrame(outputPpl2, columns=labelsPpl2, index=X_intervalLog.index)\n",
    "outPpl2.head()"
   ]
  },
  {
   "cell_type": "code",
   "execution_count": 53,
   "id": "a68c25c9-d4b9-4bd4-b7a9-5caf4af2194e",
   "metadata": {},
   "outputs": [
    {
     "data": {
      "text/html": [
       "<div>\n",
       "<style scoped>\n",
       "    .dataframe tbody tr th:only-of-type {\n",
       "        vertical-align: middle;\n",
       "    }\n",
       "\n",
       "    .dataframe tbody tr th {\n",
       "        vertical-align: top;\n",
       "    }\n",
       "\n",
       "    .dataframe thead th {\n",
       "        text-align: right;\n",
       "    }\n",
       "</style>\n",
       "<table border=\"1\" class=\"dataframe\">\n",
       "  <thead>\n",
       "    <tr style=\"text-align: right;\">\n",
       "      <th></th>\n",
       "      <th>HasCLABSI_numeric_0.0</th>\n",
       "      <th>HasCLABSI_numeric_1.0</th>\n",
       "      <th>AgeGroup_0 - 2 Years</th>\n",
       "      <th>AgeGroup_10 - 12 Years</th>\n",
       "      <th>AgeGroup_12 - 14 Years</th>\n",
       "      <th>AgeGroup_14 - 16 Years</th>\n",
       "      <th>AgeGroup_16 - 18 Years</th>\n",
       "      <th>AgeGroup_18 - 20 Years</th>\n",
       "      <th>AgeGroup_2 - 4 Years</th>\n",
       "      <th>AgeGroup_20 - 22 Years</th>\n",
       "      <th>...</th>\n",
       "      <th>ICUDaysLast30</th>\n",
       "      <th>HospitalDay</th>\n",
       "      <th>MedsBowelRegimenLast30</th>\n",
       "      <th>LineDaysDoubleLumen</th>\n",
       "      <th>ChlorhexidineLast30</th>\n",
       "      <th>CHGBathsLast30</th>\n",
       "      <th>HCLAdministeredLast30</th>\n",
       "      <th>ICUDaysLast15</th>\n",
       "      <th>ChlorhexidineLast30</th>\n",
       "      <th>CHGBathsLast30</th>\n",
       "    </tr>\n",
       "  </thead>\n",
       "  <tbody>\n",
       "    <tr>\n",
       "      <th>0</th>\n",
       "      <td>1.0</td>\n",
       "      <td>0.0</td>\n",
       "      <td>0.0</td>\n",
       "      <td>0.0</td>\n",
       "      <td>0.0</td>\n",
       "      <td>0.0</td>\n",
       "      <td>0.0</td>\n",
       "      <td>0.0</td>\n",
       "      <td>0.0</td>\n",
       "      <td>0.0</td>\n",
       "      <td>...</td>\n",
       "      <td>-0.465275</td>\n",
       "      <td>-1.061588</td>\n",
       "      <td>-0.429969</td>\n",
       "      <td>-0.717290</td>\n",
       "      <td>-0.196968</td>\n",
       "      <td>-1.085705</td>\n",
       "      <td>-0.355232</td>\n",
       "      <td>-0.380594</td>\n",
       "      <td>-0.196968</td>\n",
       "      <td>-1.085705</td>\n",
       "    </tr>\n",
       "    <tr>\n",
       "      <th>1</th>\n",
       "      <td>1.0</td>\n",
       "      <td>0.0</td>\n",
       "      <td>0.0</td>\n",
       "      <td>0.0</td>\n",
       "      <td>0.0</td>\n",
       "      <td>0.0</td>\n",
       "      <td>0.0</td>\n",
       "      <td>0.0</td>\n",
       "      <td>0.0</td>\n",
       "      <td>0.0</td>\n",
       "      <td>...</td>\n",
       "      <td>-0.465275</td>\n",
       "      <td>-1.061588</td>\n",
       "      <td>0.733626</td>\n",
       "      <td>-0.618828</td>\n",
       "      <td>-0.196968</td>\n",
       "      <td>-1.085705</td>\n",
       "      <td>-0.567810</td>\n",
       "      <td>-0.380594</td>\n",
       "      <td>-0.196968</td>\n",
       "      <td>-1.085705</td>\n",
       "    </tr>\n",
       "    <tr>\n",
       "      <th>2</th>\n",
       "      <td>1.0</td>\n",
       "      <td>0.0</td>\n",
       "      <td>0.0</td>\n",
       "      <td>0.0</td>\n",
       "      <td>0.0</td>\n",
       "      <td>1.0</td>\n",
       "      <td>0.0</td>\n",
       "      <td>0.0</td>\n",
       "      <td>0.0</td>\n",
       "      <td>0.0</td>\n",
       "      <td>...</td>\n",
       "      <td>-0.698348</td>\n",
       "      <td>-0.833000</td>\n",
       "      <td>-0.429969</td>\n",
       "      <td>-0.717290</td>\n",
       "      <td>-0.196968</td>\n",
       "      <td>-0.885598</td>\n",
       "      <td>-0.567810</td>\n",
       "      <td>-0.702997</td>\n",
       "      <td>-0.196968</td>\n",
       "      <td>-0.885598</td>\n",
       "    </tr>\n",
       "  </tbody>\n",
       "</table>\n",
       "<p>3 rows × 119 columns</p>\n",
       "</div>"
      ],
      "text/plain": [
       "   HasCLABSI_numeric_0.0  HasCLABSI_numeric_1.0  AgeGroup_0 - 2 Years  \\\n",
       "0                    1.0                    0.0                   0.0   \n",
       "1                    1.0                    0.0                   0.0   \n",
       "2                    1.0                    0.0                   0.0   \n",
       "\n",
       "   AgeGroup_10 - 12 Years  AgeGroup_12 - 14 Years  AgeGroup_14 - 16 Years  \\\n",
       "0                     0.0                     0.0                     0.0   \n",
       "1                     0.0                     0.0                     0.0   \n",
       "2                     0.0                     0.0                     1.0   \n",
       "\n",
       "   AgeGroup_16 - 18 Years  AgeGroup_18 - 20 Years  AgeGroup_2 - 4 Years  \\\n",
       "0                     0.0                     0.0                   0.0   \n",
       "1                     0.0                     0.0                   0.0   \n",
       "2                     0.0                     0.0                   0.0   \n",
       "\n",
       "   AgeGroup_20 - 22 Years  ...  ICUDaysLast30  HospitalDay  \\\n",
       "0                     0.0  ...      -0.465275    -1.061588   \n",
       "1                     0.0  ...      -0.465275    -1.061588   \n",
       "2                     0.0  ...      -0.698348    -0.833000   \n",
       "\n",
       "   MedsBowelRegimenLast30  LineDaysDoubleLumen  ChlorhexidineLast30  \\\n",
       "0               -0.429969            -0.717290            -0.196968   \n",
       "1                0.733626            -0.618828            -0.196968   \n",
       "2               -0.429969            -0.717290            -0.196968   \n",
       "\n",
       "   CHGBathsLast30  HCLAdministeredLast30  ICUDaysLast15  ChlorhexidineLast30  \\\n",
       "0       -1.085705              -0.355232      -0.380594            -0.196968   \n",
       "1       -1.085705              -0.567810      -0.380594            -0.196968   \n",
       "2       -0.885598              -0.567810      -0.702997            -0.196968   \n",
       "\n",
       "   CHGBathsLast30  \n",
       "0       -1.085705  \n",
       "1       -1.085705  \n",
       "2       -0.885598  \n",
       "\n",
       "[3 rows x 119 columns]"
      ]
     },
     "execution_count": 53,
     "metadata": {},
     "output_type": "execute_result"
    }
   ],
   "source": [
    "# Combine pipeline1 and pipeline2\n",
    "\n",
    "X_final = pd.concat([outPpl1, outPpl2], axis=1)  \n",
    "X_final.head(3)"
   ]
  },
  {
   "cell_type": "markdown",
   "id": "276c1239-a088-41c0-84c7-791bdfe1aaf8",
   "metadata": {},
   "source": [
    "#### Step 2: Use Train_test_split to divide variables into training set and test set."
   ]
  },
  {
   "cell_type": "code",
   "execution_count": 54,
   "id": "0186d46a-1e45-49a3-a273-41160ae687b7",
   "metadata": {},
   "outputs": [
    {
     "data": {
      "text/plain": [
       "(14236, 119)"
      ]
     },
     "execution_count": 54,
     "metadata": {},
     "output_type": "execute_result"
    }
   ],
   "source": [
    "knn_model=X_final\n",
    "knn_model.shape"
   ]
  },
  {
   "cell_type": "code",
   "execution_count": 55,
   "id": "4f3840ac-10aa-4b27-ad57-88df67387e29",
   "metadata": {},
   "outputs": [],
   "source": [
    "# Split the data into features (X) and target (y)\n",
    "from sklearn.model_selection import train_test_split\n",
    "from sklearn.preprocessing import StandardScaler\n",
    "\n",
    "knn_X = knn_model.drop(['HasCLABSI_numeric_0.0', 'HasCLABSI_numeric_1.0','HasCLABSI_numeric'], axis=1)\n",
    "knn_y = df['HasCLABSI_numeric']"
   ]
  },
  {
   "cell_type": "code",
   "execution_count": 56,
   "id": "5e65cef4-3f2f-4fdc-a14a-4065893d08d9",
   "metadata": {},
   "outputs": [
    {
     "data": {
      "text/plain": [
       "'Is \"knn_X_z\" a DataFrame or an array? Array'"
      ]
     },
     "execution_count": 56,
     "metadata": {},
     "output_type": "execute_result"
    }
   ],
   "source": [
    "from sklearn import preprocessing\n",
    "z_scaler = preprocessing.StandardScaler()\n",
    "knn_X_z = z_scaler.fit_transform(knn_X)\n",
    "'Is \"knn_X_z\" a DataFrame or an array? {}'.format('Array' if isinstance(knn_X_z, np.ndarray) else 'DataFrame')"
   ]
  },
  {
   "cell_type": "code",
   "execution_count": 57,
   "id": "28e85c42-aa59-48bc-899c-26dec1ea0ea4",
   "metadata": {},
   "outputs": [],
   "source": [
    "knn_X_z_train, knn_X_z_test, knn_y_train, knn_y_test = train_test_split(knn_X_z, knn_y, test_size=0.2)"
   ]
  },
  {
   "cell_type": "code",
   "execution_count": 58,
   "id": "b2e8d6e1-b871-437b-8ef3-8814a4a4692a",
   "metadata": {},
   "outputs": [
    {
     "name": "stdout",
     "output_type": "stream",
     "text": [
      "Before SMOTE: Counter({0.0: 11346, 1.0: 42})\n",
      "After SMOTE: Counter({0.0: 11346, 1.0: 11346})\n"
     ]
    }
   ],
   "source": [
    "from imblearn.over_sampling import SMOTE\n",
    "\n",
    "# Initialize SMOTE\n",
    "smote = SMOTE(random_state=42)\n",
    "\n",
    "# Apply SMOTE on the training set\n",
    "knn_X_resampled, knn_y_resampled = smote.fit_resample(knn_X_z_train, knn_y_train)\n",
    "\n",
    "# Print the class distribution before and after SMOTE\n",
    "from collections import Counter\n",
    "print(\"Before SMOTE:\", Counter(knn_y_train))\n",
    "print(\"After SMOTE:\", Counter(knn_y_resampled))\n"
   ]
  },
  {
   "cell_type": "markdown",
   "id": "63b7b8f5-5a8b-4bab-8a36-715d8b7b5f39",
   "metadata": {},
   "source": [
    "#### Step 3: Train the KNN model with the training set, setting up the weight equal to Distance."
   ]
  },
  {
   "cell_type": "code",
   "execution_count": 59,
   "id": "da7c901b-01d7-4f26-9bad-5a4590342a26",
   "metadata": {},
   "outputs": [
    {
     "data": {
      "text/html": [
       "<style>#sk-container-id-1 {color: black;}#sk-container-id-1 pre{padding: 0;}#sk-container-id-1 div.sk-toggleable {background-color: white;}#sk-container-id-1 label.sk-toggleable__label {cursor: pointer;display: block;width: 100%;margin-bottom: 0;padding: 0.3em;box-sizing: border-box;text-align: center;}#sk-container-id-1 label.sk-toggleable__label-arrow:before {content: \"▸\";float: left;margin-right: 0.25em;color: #696969;}#sk-container-id-1 label.sk-toggleable__label-arrow:hover:before {color: black;}#sk-container-id-1 div.sk-estimator:hover label.sk-toggleable__label-arrow:before {color: black;}#sk-container-id-1 div.sk-toggleable__content {max-height: 0;max-width: 0;overflow: hidden;text-align: left;background-color: #f0f8ff;}#sk-container-id-1 div.sk-toggleable__content pre {margin: 0.2em;color: black;border-radius: 0.25em;background-color: #f0f8ff;}#sk-container-id-1 input.sk-toggleable__control:checked~div.sk-toggleable__content {max-height: 200px;max-width: 100%;overflow: auto;}#sk-container-id-1 input.sk-toggleable__control:checked~label.sk-toggleable__label-arrow:before {content: \"▾\";}#sk-container-id-1 div.sk-estimator input.sk-toggleable__control:checked~label.sk-toggleable__label {background-color: #d4ebff;}#sk-container-id-1 div.sk-label input.sk-toggleable__control:checked~label.sk-toggleable__label {background-color: #d4ebff;}#sk-container-id-1 input.sk-hidden--visually {border: 0;clip: rect(1px 1px 1px 1px);clip: rect(1px, 1px, 1px, 1px);height: 1px;margin: -1px;overflow: hidden;padding: 0;position: absolute;width: 1px;}#sk-container-id-1 div.sk-estimator {font-family: monospace;background-color: #f0f8ff;border: 1px dotted black;border-radius: 0.25em;box-sizing: border-box;margin-bottom: 0.5em;}#sk-container-id-1 div.sk-estimator:hover {background-color: #d4ebff;}#sk-container-id-1 div.sk-parallel-item::after {content: \"\";width: 100%;border-bottom: 1px solid gray;flex-grow: 1;}#sk-container-id-1 div.sk-label:hover label.sk-toggleable__label {background-color: #d4ebff;}#sk-container-id-1 div.sk-serial::before {content: \"\";position: absolute;border-left: 1px solid gray;box-sizing: border-box;top: 0;bottom: 0;left: 50%;z-index: 0;}#sk-container-id-1 div.sk-serial {display: flex;flex-direction: column;align-items: center;background-color: white;padding-right: 0.2em;padding-left: 0.2em;position: relative;}#sk-container-id-1 div.sk-item {position: relative;z-index: 1;}#sk-container-id-1 div.sk-parallel {display: flex;align-items: stretch;justify-content: center;background-color: white;position: relative;}#sk-container-id-1 div.sk-item::before, #sk-container-id-1 div.sk-parallel-item::before {content: \"\";position: absolute;border-left: 1px solid gray;box-sizing: border-box;top: 0;bottom: 0;left: 50%;z-index: -1;}#sk-container-id-1 div.sk-parallel-item {display: flex;flex-direction: column;z-index: 1;position: relative;background-color: white;}#sk-container-id-1 div.sk-parallel-item:first-child::after {align-self: flex-end;width: 50%;}#sk-container-id-1 div.sk-parallel-item:last-child::after {align-self: flex-start;width: 50%;}#sk-container-id-1 div.sk-parallel-item:only-child::after {width: 0;}#sk-container-id-1 div.sk-dashed-wrapped {border: 1px dashed gray;margin: 0 0.4em 0.5em 0.4em;box-sizing: border-box;padding-bottom: 0.4em;background-color: white;}#sk-container-id-1 div.sk-label label {font-family: monospace;font-weight: bold;display: inline-block;line-height: 1.2em;}#sk-container-id-1 div.sk-label-container {text-align: center;}#sk-container-id-1 div.sk-container {/* jupyter's `normalize.less` sets `[hidden] { display: none; }` but bootstrap.min.css set `[hidden] { display: none !important; }` so we also need the `!important` here to be able to override the default hidden behavior on the sphinx rendered scikit-learn.org. See: https://github.com/scikit-learn/scikit-learn/issues/21755 */display: inline-block !important;position: relative;}#sk-container-id-1 div.sk-text-repr-fallback {display: none;}</style><div id=\"sk-container-id-1\" class=\"sk-top-container\"><div class=\"sk-text-repr-fallback\"><pre>KNeighborsClassifier(n_neighbors=3, weights=&#x27;distance&#x27;)</pre><b>In a Jupyter environment, please rerun this cell to show the HTML representation or trust the notebook. <br />On GitHub, the HTML representation is unable to render, please try loading this page with nbviewer.org.</b></div><div class=\"sk-container\" hidden><div class=\"sk-item\"><div class=\"sk-estimator sk-toggleable\"><input class=\"sk-toggleable__control sk-hidden--visually\" id=\"sk-estimator-id-1\" type=\"checkbox\" checked><label for=\"sk-estimator-id-1\" class=\"sk-toggleable__label sk-toggleable__label-arrow\">KNeighborsClassifier</label><div class=\"sk-toggleable__content\"><pre>KNeighborsClassifier(n_neighbors=3, weights=&#x27;distance&#x27;)</pre></div></div></div></div></div>"
      ],
      "text/plain": [
       "KNeighborsClassifier(n_neighbors=3, weights='distance')"
      ]
     },
     "execution_count": 59,
     "metadata": {},
     "output_type": "execute_result"
    }
   ],
   "source": [
    "from sklearn.neighbors import KNeighborsClassifier\n",
    "\n",
    "# Creating an instance of KNeighborsClassifier\n",
    "knn = KNeighborsClassifier(n_neighbors=3,weights='distance')\n",
    "\n",
    "# Fitting the model with training data\n",
    "knn.fit(knn_X_resampled, knn_y_resampled)"
   ]
  },
  {
   "cell_type": "markdown",
   "id": "f3fe7f62-c037-4078-abb3-11ffd9adb0a5",
   "metadata": {},
   "source": [
    "#### Step 4: Conducting prediction on the test set and comparing the outcome with the true value on the y test."
   ]
  },
  {
   "cell_type": "code",
   "execution_count": 60,
   "id": "6e8b3cef-4ec2-44fc-9027-e86ffee3b23a",
   "metadata": {},
   "outputs": [],
   "source": [
    "y_pred = knn.predict(knn_X_z_test)"
   ]
  },
  {
   "cell_type": "code",
   "execution_count": 61,
   "id": "028df12b-a1e8-4451-8a1c-0adaa6a115c6",
   "metadata": {},
   "outputs": [
    {
     "name": "stdout",
     "output_type": "stream",
     "text": [
      "Accuracy: 0.9950842696629213\n",
      "Precision: 0.3333333333333333\n",
      "Recall: 0.4\n"
     ]
    }
   ],
   "source": [
    "from sklearn.metrics import accuracy_score, recall_score, precision_score\n",
    "\n",
    "accuracy = accuracy_score(knn_y_test, y_pred)\n",
    "precision = precision_score(knn_y_test, y_pred)\n",
    "recall = recall_score(knn_y_test, y_pred)\n",
    "\n",
    "print(\"Accuracy:\", accuracy)\n",
    "print(\"Precision:\", precision)\n",
    "print(\"Recall:\", recall)"
   ]
  },
  {
   "cell_type": "code",
   "execution_count": 62,
   "id": "2fabae5d-0334-45be-bea9-d0e9f11b4c7f",
   "metadata": {},
   "outputs": [
    {
     "data": {
      "text/plain": [
       "0.9987661315217752"
      ]
     },
     "execution_count": 62,
     "metadata": {},
     "output_type": "execute_result"
    }
   ],
   "source": [
    "score_xval_knn = cross_val_score(knn, X=knn_X_resampled, y=knn_y_resampled, cv=10, scoring='accuracy')\n",
    "score_xval_knn.mean()"
   ]
  },
  {
   "cell_type": "code",
   "execution_count": 63,
   "id": "bc7a4615-8b3d-43e8-8cc0-fa71aabd8b7d",
   "metadata": {},
   "outputs": [
    {
     "data": {
      "text/plain": [
       "<Figure size 2000x1000 with 0 Axes>"
      ]
     },
     "metadata": {},
     "output_type": "display_data"
    },
    {
     "data": {
      "image/png": "[encoded data removed]",
      "text/plain": [
       "<Figure size 640x480 with 2 Axes>"
      ]
     },
     "metadata": {},
     "output_type": "display_data"
    }
   ],
   "source": [
    "from sklearn.metrics import confusion_matrix, ConfusionMatrixDisplay \n",
    "\n",
    "knn_metrics = confusion_matrix(knn_y_test, y_pred)\n",
    "\n",
    "plt.figure(figsize=(20, 10))\n",
    "ConfusionMatrixDisplay(confusion_matrix=knn_metrics).plot();\n",
    "plt.show()"
   ]
  },
  {
   "cell_type": "markdown",
   "id": "64de083e-4739-4b09-b48b-e713949a877a",
   "metadata": {},
   "source": [
    "### <font color='red'>Random Forest</font>"
   ]
  },
  {
   "cell_type": "code",
   "execution_count": 64,
   "id": "fb4575dc-6299-4579-af32-a0f8f38a6a82",
   "metadata": {},
   "outputs": [],
   "source": [
    "# check the preprocess data we completed in KNN model. \n",
    "dft_model=X_final\n",
    "dft_x = dft_model.drop(['HasCLABSI_numeric_0.0', 'HasCLABSI_numeric_1.0','HasCLABSI_numeric'], axis=1)\n",
    "dft_y = df['HasCLABSI_numeric']\n"
   ]
  },
  {
   "cell_type": "code",
   "execution_count": 65,
   "id": "bbba9f60-2e22-47df-b81f-c9f82739ddb3",
   "metadata": {},
   "outputs": [],
   "source": [
    "dft_X_train, dft_X_test, dft_y_train, dft_y_test = train_test_split(dft_x, dft_y, test_size=0.2,\n",
    "                                                                    shuffle=True, random_state=random_state)"
   ]
  },
  {
   "cell_type": "code",
   "execution_count": 66,
   "id": "a17321d1-2084-46a4-b063-b81b5bccfc9d",
   "metadata": {},
   "outputs": [],
   "source": [
    "from imblearn.over_sampling import SMOTE\n",
    "\n",
    "smote = SMOTE(random_state=42)\n",
    "rf_X_resampled, rf_y_resampled = smote.fit_resample(dft_X_train, dft_y_train)\n"
   ]
  },
  {
   "cell_type": "code",
   "execution_count": 93,
   "id": "7828418c-b577-4c82-b611-f05bcb9a298c",
   "metadata": {},
   "outputs": [],
   "source": [
    "from sklearn.ensemble import RandomForestClassifier\n",
    "# we will use 8 decision tree\n",
    "dft_process = RandomForestClassifier(n_estimators=8, random_state=75,bootstrap=True)\n",
    "\n"
   ]
  },
  {
   "cell_type": "code",
   "execution_count": 68,
   "id": "1459dcc3-2327-4a8c-be3f-9a2a7cef1692",
   "metadata": {},
   "outputs": [
    {
     "data": {
      "text/html": [
       "<style>#sk-container-id-2 {color: black;}#sk-container-id-2 pre{padding: 0;}#sk-container-id-2 div.sk-toggleable {background-color: white;}#sk-container-id-2 label.sk-toggleable__label {cursor: pointer;display: block;width: 100%;margin-bottom: 0;padding: 0.3em;box-sizing: border-box;text-align: center;}#sk-container-id-2 label.sk-toggleable__label-arrow:before {content: \"▸\";float: left;margin-right: 0.25em;color: #696969;}#sk-container-id-2 label.sk-toggleable__label-arrow:hover:before {color: black;}#sk-container-id-2 div.sk-estimator:hover label.sk-toggleable__label-arrow:before {color: black;}#sk-container-id-2 div.sk-toggleable__content {max-height: 0;max-width: 0;overflow: hidden;text-align: left;background-color: #f0f8ff;}#sk-container-id-2 div.sk-toggleable__content pre {margin: 0.2em;color: black;border-radius: 0.25em;background-color: #f0f8ff;}#sk-container-id-2 input.sk-toggleable__control:checked~div.sk-toggleable__content {max-height: 200px;max-width: 100%;overflow: auto;}#sk-container-id-2 input.sk-toggleable__control:checked~label.sk-toggleable__label-arrow:before {content: \"▾\";}#sk-container-id-2 div.sk-estimator input.sk-toggleable__control:checked~label.sk-toggleable__label {background-color: #d4ebff;}#sk-container-id-2 div.sk-label input.sk-toggleable__control:checked~label.sk-toggleable__label {background-color: #d4ebff;}#sk-container-id-2 input.sk-hidden--visually {border: 0;clip: rect(1px 1px 1px 1px);clip: rect(1px, 1px, 1px, 1px);height: 1px;margin: -1px;overflow: hidden;padding: 0;position: absolute;width: 1px;}#sk-container-id-2 div.sk-estimator {font-family: monospace;background-color: #f0f8ff;border: 1px dotted black;border-radius: 0.25em;box-sizing: border-box;margin-bottom: 0.5em;}#sk-container-id-2 div.sk-estimator:hover {background-color: #d4ebff;}#sk-container-id-2 div.sk-parallel-item::after {content: \"\";width: 100%;border-bottom: 1px solid gray;flex-grow: 1;}#sk-container-id-2 div.sk-label:hover label.sk-toggleable__label {background-color: #d4ebff;}#sk-container-id-2 div.sk-serial::before {content: \"\";position: absolute;border-left: 1px solid gray;box-sizing: border-box;top: 0;bottom: 0;left: 50%;z-index: 0;}#sk-container-id-2 div.sk-serial {display: flex;flex-direction: column;align-items: center;background-color: white;padding-right: 0.2em;padding-left: 0.2em;position: relative;}#sk-container-id-2 div.sk-item {position: relative;z-index: 1;}#sk-container-id-2 div.sk-parallel {display: flex;align-items: stretch;justify-content: center;background-color: white;position: relative;}#sk-container-id-2 div.sk-item::before, #sk-container-id-2 div.sk-parallel-item::before {content: \"\";position: absolute;border-left: 1px solid gray;box-sizing: border-box;top: 0;bottom: 0;left: 50%;z-index: -1;}#sk-container-id-2 div.sk-parallel-item {display: flex;flex-direction: column;z-index: 1;position: relative;background-color: white;}#sk-container-id-2 div.sk-parallel-item:first-child::after {align-self: flex-end;width: 50%;}#sk-container-id-2 div.sk-parallel-item:last-child::after {align-self: flex-start;width: 50%;}#sk-container-id-2 div.sk-parallel-item:only-child::after {width: 0;}#sk-container-id-2 div.sk-dashed-wrapped {border: 1px dashed gray;margin: 0 0.4em 0.5em 0.4em;box-sizing: border-box;padding-bottom: 0.4em;background-color: white;}#sk-container-id-2 div.sk-label label {font-family: monospace;font-weight: bold;display: inline-block;line-height: 1.2em;}#sk-container-id-2 div.sk-label-container {text-align: center;}#sk-container-id-2 div.sk-container {/* jupyter's `normalize.less` sets `[hidden] { display: none; }` but bootstrap.min.css set `[hidden] { display: none !important; }` so we also need the `!important` here to be able to override the default hidden behavior on the sphinx rendered scikit-learn.org. See: https://github.com/scikit-learn/scikit-learn/issues/21755 */display: inline-block !important;position: relative;}#sk-container-id-2 div.sk-text-repr-fallback {display: none;}</style><div id=\"sk-container-id-2\" class=\"sk-top-container\"><div class=\"sk-text-repr-fallback\"><pre>RandomForestClassifier(n_estimators=8, random_state=75)</pre><b>In a Jupyter environment, please rerun this cell to show the HTML representation or trust the notebook. <br />On GitHub, the HTML representation is unable to render, please try loading this page with nbviewer.org.</b></div><div class=\"sk-container\" hidden><div class=\"sk-item\"><div class=\"sk-estimator sk-toggleable\"><input class=\"sk-toggleable__control sk-hidden--visually\" id=\"sk-estimator-id-2\" type=\"checkbox\" checked><label for=\"sk-estimator-id-2\" class=\"sk-toggleable__label sk-toggleable__label-arrow\">RandomForestClassifier</label><div class=\"sk-toggleable__content\"><pre>RandomForestClassifier(n_estimators=8, random_state=75)</pre></div></div></div></div></div>"
      ],
      "text/plain": [
       "RandomForestClassifier(n_estimators=8, random_state=75)"
      ]
     },
     "execution_count": 68,
     "metadata": {},
     "output_type": "execute_result"
    }
   ],
   "source": [
    "#Train the Random Forest Model on the training date \n",
    "dft_process.fit(rf_X_resampled, rf_y_resampled)"
   ]
  },
  {
   "cell_type": "code",
   "execution_count": 69,
   "id": "2204af48-7ec9-41d7-8832-0d4c0771d901",
   "metadata": {},
   "outputs": [
    {
     "data": {
      "text/plain": [
       "0.9987223116395472"
      ]
     },
     "execution_count": 69,
     "metadata": {},
     "output_type": "execute_result"
    }
   ],
   "source": [
    "# Conducting Cross-validation.\n",
    "\n",
    "score_xval_dft = cross_val_score(dft_process, X=rf_X_resampled, y=rf_y_resampled, cv=10, scoring='accuracy')\n",
    "score_xval_dft.mean()"
   ]
  },
  {
   "cell_type": "code",
   "execution_count": 70,
   "id": "723eed7c-4647-4cc9-9010-42cf009f0f55",
   "metadata": {},
   "outputs": [],
   "source": [
    "#Apply the model on test set\n",
    "\n",
    "dft_pred = dft_process.predict(dft_X_test)"
   ]
  },
  {
   "cell_type": "code",
   "execution_count": 71,
   "id": "d159e204-396d-472c-8b7f-22bf8a9c77bf",
   "metadata": {},
   "outputs": [
    {
     "name": "stdout",
     "output_type": "stream",
     "text": [
      "Accuracy: 0.995435393258427\n",
      "Precision: 0.4\n",
      "Recall: 0.36363636363636365\n"
     ]
    }
   ],
   "source": [
    "from sklearn.metrics import accuracy_score, confusion_matrix, precision_score, recall_score, ConfusionMatrixDisplay\n",
    "\n",
    "dft_accuracy = accuracy_score(dft_y_test, dft_pred)\n",
    "dft_precision = precision_score(dft_y_test, dft_pred)\n",
    "dft_recall = recall_score(dft_y_test, dft_pred)\n",
    "\n",
    "print(\"Accuracy:\", dft_accuracy)\n",
    "print(\"Precision:\", dft_precision)\n",
    "print(\"Recall:\", dft_recall)"
   ]
  },
  {
   "cell_type": "code",
   "execution_count": null,
   "id": "ba22c8d1-c863-4f80-882f-c1fee8404efe",
   "metadata": {},
   "outputs": [
    {
     "name": "stdout",
     "output_type": "stream",
     "text": [
      "Fitting 5 folds for each of 50 candidates, totalling 250 fits\n"
     ]
    },
    {
     "name": "stderr",
     "output_type": "stream",
     "text": [
      "C:\\Users\\madhu\\miniconda3\\lib\\site-packages\\joblib\\externals\\loky\\process_executor.py:752: UserWarning: A worker stopped while some jobs were given to the executor. This can be caused by a too short worker timeout or by a memory leak.\n",
      "  warnings.warn(\n"
     ]
    }
   ],
   "source": [
    "from sklearn.ensemble import RandomForestClassifier\n",
    "from sklearn.model_selection import RandomizedSearchCV\n",
    "from scipy.stats import randint\n",
    "\n",
    "\n",
    "\n",
    "# Define the parameter distribution\n",
    "param_dist = {\n",
    "    'n_estimators': randint(50, 200),          # Randomized range for the number of trees\n",
    "    'max_depth': [None, 10, 20, 30],\n",
    "    'min_samples_split': randint(2, 11),      # Randomized range for min_samples_split\n",
    "    'min_samples_leaf': randint(1, 5),        # Randomized range for min_samples_leaf\n",
    "    'max_features': ['sqrt', 'log2', None]\n",
    "}\n",
    "\n",
    "# Initialize RandomizedSearchCV\n",
    "random_search = RandomizedSearchCV(\n",
    "    estimator=dft_process,\n",
    "    param_distributions=param_dist,\n",
    "    scoring='accuracy',   # Evaluation metric\n",
    "    n_iter=50,            # Number of parameter settings sampled\n",
    "    cv=5,                 # 5-fold cross-validation\n",
    "    verbose=2,\n",
    "    random_state=42,\n",
    "    n_jobs=-1             # Use all processors\n",
    ")\n",
    "\n",
    "# Fit RandomizedSearchCV on the training data\n",
    "random_search.fit(rf_X_resampled, rf_y_resampled)\n",
    "\n",
    "# Display the best parameters and the best score\n",
    "print(\"Best Parameters:\", random_search.best_params_)\n",
    "print(\"Best Accuracy Score:\", random_search.best_score_)\n"
   ]
  },
  {
   "cell_type": "code",
   "execution_count": 94,
   "id": "a586cafc-6407-4c08-aea6-1e341fdbd2ec",
   "metadata": {},
   "outputs": [
    {
     "name": "stdout",
     "output_type": "stream",
     "text": [
      "Fitting 5 folds for each of 324 candidates, totalling 1620 fits\n",
      "Best Parameters: {'max_depth': None, 'max_features': 'sqrt', 'min_samples_leaf': 1, 'min_samples_split': 10, 'n_estimators': 50}\n",
      "Best Accuracy Score: 0.9989424886379646\n"
     ]
    }
   ],
   "source": [
    "from sklearn.ensemble import RandomForestClassifier\n",
    "from sklearn.model_selection import GridSearchCV\n",
    "\n",
    "\n",
    "\n",
    "# Define the parameter grid\n",
    "param_grid = {\n",
    "    'n_estimators': [50, 100, 200],            # Number of trees in the forest\n",
    "    'max_depth': [None, 10, 20, 30],           # Maximum depth of the tree\n",
    "    'min_samples_split': [2, 5, 10],           # Minimum number of samples required to split an internal node\n",
    "    'min_samples_leaf': [1, 2, 4],             # Minimum number of samples required to be at a leaf node\n",
    "    'max_features': ['sqrt', 'log2', None]     # Number of features to consider when looking for the best split\n",
    "}\n",
    "\n",
    "# Initialize GridSearchCV\n",
    "grid_search = GridSearchCV(\n",
    "    estimator=dft_process,\n",
    "    param_grid=param_grid,\n",
    "    scoring='accuracy',   # You can use other metrics such as 'roc_auc', 'f1', etc.\n",
    "    cv=5,                 # 5-fold cross-validation\n",
    "    verbose=2,\n",
    "    n_jobs=-1             # Use all processors for parallel processing\n",
    ")\n",
    "\n",
    "# Fit GridSearchCV on the training data\n",
    "grid_search.fit(rf_X_resampled, rf_y_resampled)\n",
    "\n",
    "# Display the best parameters and the best score\n",
    "print(\"Best Parameters:\", grid_search.best_params_)\n",
    "print(\"Best Accuracy Score:\", grid_search.best_score_)\n"
   ]
  },
  {
   "cell_type": "code",
   "execution_count": 95,
   "id": "9ddd4ddf-483c-4248-ad45-0da83d0c857c",
   "metadata": {},
   "outputs": [
    {
     "name": "stdout",
     "output_type": "stream",
     "text": [
      "              precision    recall  f1-score   support\n",
      "\n",
      "         0.0       1.00      1.00      1.00      2837\n",
      "         1.0       0.44      0.36      0.40        11\n",
      "\n",
      "    accuracy                           1.00      2848\n",
      "   macro avg       0.72      0.68      0.70      2848\n",
      "weighted avg       1.00      1.00      1.00      2848\n",
      "\n"
     ]
    }
   ],
   "source": [
    "# Best Random Forest model from GridSearchCV or RandomizedSearchCV\n",
    "best_rf_model = grid_search.best_estimator_  # Or random_search.best_estimator_\n",
    "\n",
    "# Fit on the training data\n",
    "best_rf_model.fit(rf_X_resampled, rf_y_resampled)\n",
    "\n",
    "# Predict on the test data\n",
    "rf_y_pred = best_rf_model.predict(dft_X_test)\n",
    "\n",
    "# Evaluate the model\n",
    "from sklearn.metrics import classification_report\n",
    "print(classification_report(dft_y_test, rf_y_pred))\n"
   ]
  },
  {
   "cell_type": "raw",
   "id": "7797e5b1-933e-4d42-9c87-1a73fe39b40c",
   "metadata": {},
   "source": [
    "Mltilayer Perceptron model"
   ]
  },
  {
   "cell_type": "code",
   "execution_count": 72,
   "id": "35c7bdd7-858f-4eb6-a6c4-4bb8138d4380",
   "metadata": {},
   "outputs": [
    {
     "name": "stdout",
     "output_type": "stream",
     "text": [
      "Test Accuracy: 0.991571060641536\n",
      "              precision    recall  f1-score   support\n",
      "\n",
      "           0       1.00      0.99      1.00      4255\n",
      "           1       0.22      0.50      0.31        16\n",
      "\n",
      "    accuracy                           0.99      4271\n",
      "   macro avg       0.61      0.75      0.65      4271\n",
      "weighted avg       1.00      0.99      0.99      4271\n",
      "\n"
     ]
    }
   ],
   "source": [
    "# Import necessary libraries\n",
    "import numpy as np\n",
    "from sklearn.model_selection import train_test_split\n",
    "from sklearn.neural_network import MLPClassifier\n",
    "from sklearn.metrics import classification_report\n",
    "from imblearn.over_sampling import SMOTE\n",
    "\n",
    "# Random state\n",
    "np.random.seed(3)\n",
    "random_state = 10\n",
    "\n",
    "# Train-test split\n",
    "MLP_train, MLP_test = train_test_split(X_final,\n",
    "                                      test_size=0.3, shuffle=True, random_state=random_state)\n",
    "\n",
    "# Separate features (X) and target (y) for train and test sets\n",
    "y_tr_ohe = MLP_train[['HasCLABSI_numeric_0.0', 'HasCLABSI_numeric_1.0']]\n",
    "X_tr = MLP_train.drop(columns=['HasCLABSI_numeric_0.0', 'HasCLABSI_numeric_1.0', 'HasCLABSI_numeric'])\n",
    "\n",
    "y_ts_ohe = MLP_test[['HasCLABSI_numeric_0.0', 'HasCLABSI_numeric_1.0']]\n",
    "X_ts = MLP_test.drop(columns=['HasCLABSI_numeric_0.0', 'HasCLABSI_numeric_1.0', 'HasCLABSI_numeric'])\n",
    "\n",
    "# Convert one-hot encoded targets to single-column labels\n",
    "y_tr_single = y_tr_ohe.idxmax(axis=1).apply(lambda x: int(float(x.split('_')[-1])))  # Extract and convert\n",
    "y_ts_single = y_ts_ohe.idxmax(axis=1).apply(lambda x: int(float(x.split('_')[-1])))\n",
    "\n",
    "\n",
    "# SMOTE Resampling\n",
    "smote = SMOTE(random_state=random_state)\n",
    "MLP_X_train_resampled, MLP_y_train_resampled = smote.fit_resample(X_tr, y_tr_single)\n",
    "\n",
    "# Train MLP with resampled data\n",
    "mlp_model = MLPClassifier(hidden_layer_sizes=(100,), random_state=random_state, max_iter=500)\n",
    "mlp_model.fit(MLP_X_train_resampled, MLP_y_train_resampled)\n",
    "\n",
    "# Evaluate the model\n",
    "print(\"Test Accuracy:\", mlp_model.score(X_ts, y_ts_single))\n",
    "print(classification_report(y_ts_single, mlp_model.predict(X_ts)))\n",
    "\n"
   ]
  },
  {
   "cell_type": "code",
   "execution_count": null,
   "id": "e748584a-58db-4f89-af8b-9def27b6e8b3",
   "metadata": {},
   "outputs": [],
   "source": []
  }
 ],
 "metadata": {
  "kernelspec": {
   "display_name": "Python 3 (ipykernel)",
   "language": "python",
   "name": "python3"
  },
  "language_info": {
   "codemirror_mode": {
    "name": "ipython",
    "version": 3
   },
   "file_extension": ".py",
   "mimetype": "text/x-python",
   "name": "python",
   "nbconvert_exporter": "python",
   "pygments_lexer": "ipython3",
   "version": "3.9.12"
  }
 },
 "nbformat": 4,
 "nbformat_minor": 5
}
